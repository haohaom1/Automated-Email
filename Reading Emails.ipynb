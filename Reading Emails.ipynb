{
 "cells": [
  {
   "cell_type": "code",
   "execution_count": 44,
   "metadata": {
    "collapsed": true
   },
   "outputs": [],
   "source": [
    "import pandas as pd\n",
    "import numpy as np\n",
    "import imaplib\n",
    "import email\n",
    "import quopri\n",
    "import re\n",
    "import html\n",
    "from bs4 import BeautifulSoup\n",
    "import requests"
   ]
  },
  {
   "cell_type": "code",
   "execution_count": 2,
   "metadata": {
    "collapsed": true
   },
   "outputs": [],
   "source": [
    "username = 'prospectstudent@colby.edu'\n",
    "password = 'Student.2017'\n",
    "\n",
    "# username = 'haohaom2@gmail.com'\n",
    "# password = '62947394'"
   ]
  },
  {
   "cell_type": "markdown",
   "metadata": {},
   "source": [
    "### Accessing the email"
   ]
  },
  {
   "cell_type": "code",
   "execution_count": 3,
   "metadata": {},
   "outputs": [
    {
     "data": {
      "text/plain": [
       "('OK', [b'4000'])"
      ]
     },
     "execution_count": 3,
     "metadata": {},
     "output_type": "execute_result"
    }
   ],
   "source": [
    "mail = imaplib.IMAP4_SSL('imap.gmail.com')\n",
    "mail.login(username, password)\n",
    "mail.list()\n",
    "# Out: list of \"folders\" aka labels in gmail.\n",
    "mail.select(\"inbox\") # connect to inbox."
   ]
  },
  {
   "cell_type": "code",
   "execution_count": 4,
   "metadata": {
    "collapsed": true
   },
   "outputs": [],
   "source": [
    "result, data = mail.uid('search', None, \"ALL\") # search and return uids instead\n",
    "\n",
    "first_email_id = data[0].split()[0]\n",
    "latest_email_uid = data[0].split()[-1]\n",
    "\n",
    "ids = data[0].split()"
   ]
  },
  {
   "cell_type": "code",
   "execution_count": 5,
   "metadata": {},
   "outputs": [
    {
     "name": "stdout",
     "output_type": "stream",
     "text": [
      "first email uid  b'4009'\n",
      "latest_email_uid  b'12161'\n"
     ]
    }
   ],
   "source": [
    "print('first email uid ', first_email_id)\n",
    "print('latest_email_uid ', latest_email_uid)"
   ]
  },
  {
   "cell_type": "code",
   "execution_count": null,
   "metadata": {
    "collapsed": true
   },
   "outputs": [],
   "source": []
  },
  {
   "cell_type": "markdown",
   "metadata": {},
   "source": [
    "### Reading the email message"
   ]
  },
  {
   "cell_type": "code",
   "execution_count": 6,
   "metadata": {},
   "outputs": [
    {
     "name": "stdout",
     "output_type": "stream",
     "text": [
      "Google Alert - \"Rebecca Corbett\"\n"
     ]
    }
   ],
   "source": [
    "result, data = mail.uid('fetch', ids[-3], '(RFC822)')\n",
    "raw_email = str(data[0][1], 'utf-8')\n",
    "email_message = email.message_from_string(raw_email)\n",
    "print(email_message['subject'])"
   ]
  },
  {
   "cell_type": "code",
   "execution_count": 7,
   "metadata": {
    "collapsed": true
   },
   "outputs": [],
   "source": [
    "def get_text_from_email(email_msg):\n",
    "    if email_msg.is_multipart():\n",
    "        s = ''\n",
    "        for payload in email_msg.get_payload():\n",
    "            s += payload.get_payload()\n",
    "    else:\n",
    "        s = b.get_payload()\n",
    "    \n",
    "    return s"
   ]
  },
  {
   "cell_type": "code",
   "execution_count": 8,
   "metadata": {
    "collapsed": true,
    "scrolled": true
   },
   "outputs": [],
   "source": [
    "text = get_text_from_email(email_message).replace('\\r\\n', '')"
   ]
  },
  {
   "cell_type": "code",
   "execution_count": 9,
   "metadata": {
    "collapsed": true
   },
   "outputs": [],
   "source": [
    "text = get_text_from_email(email_message)\n",
    "# text"
   ]
  },
  {
   "cell_type": "code",
   "execution_count": 20,
   "metadata": {},
   "outputs": [
    {
     "data": {
      "text/plain": [
       "'PT09IE5ld3MgLSAxIG5ldyByZXN1bHQgZm9yIFsiUmViZWNjYSBDb3JiZXR0Il0gPT09DQoNClB1\\r\\nbGl0emVyLXdpbm5pbmcgTmV3IFlvcmsgVGltZXMgZWRpdG9yIHJlY291bnRzIGh1bWJsZSBiZWdp\\r\\nbm5pbmdzIGluDQpXYXRlcnZpbGxlDQpLZW5uZWJlYyBKb3VybmFsICYgTW9ybmluZyBTZW50aW5l\\r\\nbA0KUmViZWNjYSBDb3JiZXR0IGlzIHRoZSBhc3Npc3RhbnQgbWFuYWdpbmcgZWRpdG9yIG9mIHRo\\r\\nZSBtb3N0IHByZXN0aWdpb3VzDQphbmQgaW5mbHVlbnRpYWwgbmV3cyBvcmdhbml6YXRpb24gaW4g\\r\\ndGhlIGNvdW50cnkuIFNoZSBsZWQgYSBkdW8gb2YNCmludmVzdGlnYXRpdmUgcmVwb3J0ZXJzIGlu\\r\\nIHRoZWlyIHB1cnN1aXQgdG8gZXhwb3NlIHRoZSBkZWNhZGVzIG9mIHNleHVhbA0KaGFyYXNzbWVu\\r\\ndCBwZXJwZXRyYXRlZCBieSBIYXJ2ZXkgV2VpbnN0ZWluLCBhIHBvd2VyZnVsIEhvbGx5d29vZCBw\\r\\ncm9kdWNlciwNCndoaWNoIGluIHR1cm4gLi4uDQo8aHR0cHM6Ly93d3cuZ29vZ2xlLmNvbS91cmw/\\r\\ncmN0PWomc2E9dCZ1cmw9aHR0cHM6Ly93d3cuY2VudHJhbG1haW5lLmNvbS8yMDE4LzA0LzI0L25l\\r\\ndy15b3JrLXRpbWVzLWVkaXRvci1yZWNvdW50cy1odW1ibGUtYmVnaW5uaW5ncy1pbi13YXRlcnZp\\r\\nbGxlLyZjdD1nYSZjZD1DQUVZQUNvVU1UYzJNamsyT0RVMU1EVTVOVFV6TlRZNU1Ua3lHbUZtWlRS\\r\\naE1tTTNNR1kyWm1VNU1HWTZZMjl0T21WdU9sVlQmdXNnPUFGUWpDTkdYSDUtREJYV1d0NjVLRXJE\\r\\nSDJtWkFiLUt1dkE+DQoNCg0KLSAtIC0gLSAtIC0gLSAtIC0gLSAtIC0gLSAtIC0gLSAtIC0gLSAt\\r\\nIC0gLSAtIC0gLSAtIC0gLSAtIC0gLSAtIC0gLQ0KVW5zdWJzY3JpYmUgZnJvbSB0aGlzIEdvb2ds\\r\\nZSBBbGVydDoNCjxodHRwczovL3d3dy5nb29nbGUuY29tL2FsZXJ0cy9yZW1vdmU/c291cmNlPWFs\\r\\nZXJ0c21haWwmaGw9ZW4mZ2w9VVMmbXNnaWQ9TVRjMk1qazJPRFUxTURVNU5UVXpOVFk1TVRrJnM9\\r\\nQUIyWHE0am41NGVvV1IxSnRraFhVRXpOelFZUThxUWFIMUlrOEhNPg0KDQpDcmVhdGUgYW5vdGhl\\r\\nciBHb29nbGUgQWxlcnQ6DQo8aHR0cHM6Ly93d3cuZ29vZ2xlLmNvbS9hbGVydHM/c291cmNlPWFs\\r\\nZXJ0c21haWwmaGw9ZW4mZ2w9VVMmbXNnaWQ9TVRjMk1qazJPRFUxTURVNU5UVXpOVFk1TVRrPg0K\\r\\nDQpTaWduIGluIHRvIG1hbmFnZSB5b3VyIGFsZXJ0czoNCjxodHRwczovL3d3dy5nb29nbGUuY29t\\r\\nL2FsZXJ0cz9zb3VyY2U9YWxlcnRzbWFpbCZobD1lbiZnbD1VUyZtc2dpZD1NVGMyTWprMk9EVTFN\\r\\nRFU1TlRVek5UWTVNVGs+DQo=<html lang=3D\"en-US\"> <head>  </head> <body> <div>  <script data-scope=3D\"i=\\r\\nnboxmarkup\" type=3D\"application/json\">{\\r\\n  \"api_version\": \"1.0\",\\r\\n  \"publisher\": {\\r\\n    \"api_key\": \"668269e72cfedea31b22524041ff21d9\",\\r\\n    \"name\": \"Google Alerts\"\\r\\n  },\\r\\n  \"entity\": {\\r\\n    \"external_key\": \"Google Alert - \\\\\"Rebecca Corbett\\\\\"\",\\r\\n    \"title\": \"Google Alert - \\\\\"Rebecca Corbett\\\\\"\",\\r\\n    \"subtitle\": \"Latest: April 24, 2018\",\\r\\n    \"avatar_image_url\": \"https://www.gstatic.com/images/branding/product/1x=\\r\\n/gsa_512dp.png\",\\r\\n    \"main_image_url\": \"https://www.gstatic.com/bt/C3341AA7A1A076756462EE2E5=\\r\\nCD71C11/smartmail/mobile/il_newspaper_header_r1.png\"\\r\\n  },\\r\\n  \"updates\": {\\r\\n    \"snippets\": [ {\\r\\n      \"icon\": \"BOOKMARK\",\\r\\n      \"message\": \"Pulitzer-winning New York Times editor recounts humble be=\\r\\nginnings in Waterville\"\\r\\n    } ]\\r\\n  },\\r\\n  \"cards\": [ {\\r\\n    \"title\": \"Google Alert - \\\\\"Rebecca Corbett\\\\\"\",\\r\\n    \"subtitle\": \"Highlights from the latest email\",\\r\\n    \"actions\": [ {\\r\\n      \"name\": \"See more results\",\\r\\n      \"url\": \"https://www.google.com/alerts?s=3DAB2Xq4jn54eoWR1JtkhXUEzNzQY=\\r\\nQ8qQaH1Ik8HM\\\\u0026start=3D1524005281\\\\u0026end=3D1524603803\\\\u0026source=3Dal=\\r\\nertsmail\\\\u0026hl=3Den\\\\u0026gl=3DUS\\\\u0026msgid=3DMTc2Mjk2ODU1MDU5NTUzNTY5MTk=\\r\\n#history\"\\r\\n    } ],\\r\\n    \"widgets\": [ {\\r\\n      \"type\": \"LINK\",\\r\\n      \"title\": \"Pulitzer-winning New York Times editor recounts humble begi=\\r\\nnnings in Waterville\",\\r\\n      \"description\": \"Rebecca Corbett is the assistant managing editor of t=\\r\\nhe most prestigious and influential news organization in the country. She l=\\r\\ned a duo of investigative reporters in their pursuit to expose the decades =\\r\\nof sexual harassment perpetrated by Harvey Weinstein, a powerful Hollywood =\\r\\nproducer, which in turn ...\",\\r\\n      \"url\": \"https://www.google.com/url?rct=3Dj\\\\u0026sa=3Dt\\\\u0026url=3Dhtt=\\r\\nps://www.centralmaine.com/2018/04/24/new-york-times-editor-recounts-humble-=\\r\\nbeginnings-in-waterville/\\\\u0026ct=3Dga\\\\u0026cd=3DCAEYACoUMTc2Mjk2ODU1MDU5NT=\\r\\nUzNTY5MTkyGmFmZTRhMmM3MGY2ZmU5MGY6Y29tOmVuOlVT\\\\u0026usg=3DAFQjCNGXH5-DBXWWt=\\r\\n65KErDH2mZAb-KuvA\"\\r\\n    } ]\\r\\n  } ]\\r\\n}\\r\\n</script> <!--[if mso]>\\r\\n <table><tr><td width=3D650>\\r\\n<![endif]-->\\r\\n <div style=3D\"width:100%;max-width:650px\"> <div style=3D\"font-family:Arial=\\r\\n\"> <table style=3D\"border-collapse:collapse;border-left:1px solid #e4e4e4;b=\\r\\norder-right:1px solid #e4e4e4\"> <tr> <td style=3D\"background-color:#f8f8f8;=\\r\\npadding-left:18px;border-bottom:1px solid #e4e4e4;border-top:1px solid #e4e=\\r\\n4e4\"></td> <td valign=3D\"middle\" style=3D\"padding:13px 10px 8px 0px;backgro=\\r\\nund-color:#f8f8f8;border-top:1px solid #e4e4e4;border-bottom:1px solid #e4e=\\r\\n4e4\"> <a href=3D\"https://www.google.com/alerts?source=3Dalertsmail&hl=\\r\\n=3Den&gl=3DUS&msgid=3DMTc2Mjk2ODU1MDU5NTUzNTY5MTk\" style=3D\"text-de=\\r\\ncoration:none\"> <img src=3D\"https://www.google.com/intl/en_us/alerts/logo.p=\\r\\nng?cd=3DKhQxNzYyOTY4NTUwNTk1NTM1NjkxOQ\" alt=3D\"Google\" border=3D\"0\" height=\\r\\n=3D\"25\"> </a> </td> <td style=3D\"background-color:#f8f8f8;padding-left:18px=\\r\\n;border-top:1px solid #e4e4e4;border-bottom:1px solid #e4e4e4\"></td> </tr> =\\r\\n <tr>  <td style=3D\"padding-left:32px\"></td> <td style=3D\"padding:18px 0px =\\r\\n0px 0px;vertical-align:middle;line-height:20px;font-family:Arial\"> <span st=\\r\\nyle=3D\"color:#262626;font-size:22px\">\"Rebecca Corbett\"</span> <div style=3D=\\r\\n\"vertical-align:top;padding-top:6px;color:#aaa;font-size:12px;line-height:1=\\r\\n6px\"> <span>Daily update</span> <span style=3D\"padding:0px 4px 0px 4px\">&sd=\\r\\not;</span> <a style=3D\"color:#aaa;text-decoration:none\">April 24, 2018</a> =\\r\\n</div> </td> <td style=3D\"padding-left:32px\"></td>   </tr>  <tr> <td style=\\r\\n=3D\"padding-left:18px\"></td> <td style=3D\"padding:16px 0px 12px 0px;border-=\\r\\nbottom:1px solid #e4e4e4\"> <span style=3D\"font-size:12px;color:#737373\"> NE=\\r\\nWS </span> </td> <td style=3D\"padding-right:18px\"></td> </tr>   <tr itemsco=\\r\\npe=3D\"\" itemtype=3D\"http://schema.org/Article\"> <td style=3D\"padding-left:1=\\r\\n8px\"></td> <td style=3D\"padding:18px 0px 12px 0px;vertical-align:top;font-f=\\r\\namily:Arial\"> <a></a> <div>  <span style=3D\"padding:0px 6px 0px 0px\"> <a hr=\\r\\nef=3D\"https://www.google.com/url?rct=3Dj&sa=3Dt&url=3Dhttps://www.c=\\r\\nentralmaine.com/2018/04/24/new-york-times-editor-recounts-humble-beginnings=\\r\\n-in-waterville/&ct=3Dga&cd=3DCAEYACoUMTc2Mjk2ODU1MDU5NTUzNTY5MTkyGm=\\r\\nFmZTRhMmM3MGY2ZmU5MGY6Y29tOmVuOlVT&usg=3DAFQjCNGXH5-DBXWWt65KErDH2mZAb-=\\r\\nKuvA\" itemprop=3D\"url\" style=3D\"color:#427fed;display:inline;text-decoratio=\\r\\nn:none;font-size:16px;line-height:20px\"> <span itemprop=3D\"name\">Pulitzer-w=\\r\\ninning New York Times editor recounts humble beginnings in Waterville</span=\\r\\n> </a> </span>  <div> <div style=3D\"padding:2px 0px 8px 0px\"> <div itemprop=\\r\\n=3D\"publisher\" itemscope=3D\"\" itemtype=3D\"http://schema.org/Organization\" s=\\r\\ntyle=3D\"color:#737373;font-size:12px\"> <a style=3D\"text-decoration:none;col=\\r\\nor:#737373\"> <span itemprop=3D\"name\">Kennebec Journal & Morning Sentine=\\r\\nl</span> </a> </div> <div itemprop=3D\"description\" style=3D\"color:#252525;p=\\r\\nadding:2px 0px 0px 0px;font-size:12px;line-height:18px\"><b>Rebecca Corbett<=\\r\\n/b> is the assistant managing editor of the most prestigious and influentia=\\r\\nl news organization in the country. She led a duo of investigative reporter=\\r\\ns in their pursuit to expose the decades of sexual harassment perpetrated b=\\r\\ny Harvey Weinstein, a powerful Hollywood producer, which in turn\\xa0...</=\\r\\ndiv> </div>   <table> <tr> <td width=3D\"16\" style=3D\"padding-right:6px\"> <a=\\r\\n href=3D\"https://www.google.com/alerts/share?hl=3Den&gl=3DUS&ru=3Dh=\\r\\nttps://www.centralmaine.com/2018/04/24/new-york-times-editor-recounts-humbl=\\r\\ne-beginnings-in-waterville/&ss=3Dgp&rt=3DPulitzer-winning+New+York+=\\r\\nTimes+editor+recounts+humble+beginnings+in+Waterville&cd=3DKhQxNzYyOTY4=\\r\\nNTUwNTk1NTM1NjkxOTIaYWZlNGEyYzcwZjZmZTkwZjpjb206ZW46VVM&ssp=3DAMJHsmVh8=\\r\\n7_vvN6HudNTH8zSpPQ-duB6UA\" style=3D\"text-decoration:none\"> <img alt=3D\"Goog=\\r\\nle Plus\" src=3D\"https://www.gstatic.com/alerts/images/gp-24.png\" border=3D\"=\\r\\n0\" height=3D\"16\" width=3D\"16\"></a> </td> <td width=3D\"16\" style=3D\"padding-=\\r\\nright:6px\"> <a href=3D\"https://www.google.com/alerts/share?hl=3Den&gl=\\r\\n=3DUS&ru=3Dhttps://www.centralmaine.com/2018/04/24/new-york-times-edito=\\r\\nr-recounts-humble-beginnings-in-waterville/&ss=3Dfb&rt=3DPulitzer-w=\\r\\ninning+New+York+Times+editor+recounts+humble+beginnings+in+Waterville&c=\\r\\nd=3DKhQxNzYyOTY4NTUwNTk1NTM1NjkxOTIaYWZlNGEyYzcwZjZmZTkwZjpjb206ZW46VVM&=\\r\\n;ssp=3DAMJHsmVh87_vvN6HudNTH8zSpPQ-duB6UA\" style=3D\"text-decoration:none\"> =\\r\\n<img alt=3D\"Facebook\" src=3D\"https://www.gstatic.com/alerts/images/fb-24.pn=\\r\\ng\" border=3D\"0\" height=3D\"16\" width=3D\"16\"></a> </td> <td width=3D\"16\" styl=\\r\\ne=3D\"padding-right:6px\"> <a href=3D\"https://www.google.com/alerts/share?hl=\\r\\n=3Den&gl=3DUS&ru=3Dhttps://www.centralmaine.com/2018/04/24/new-york=\\r\\n-times-editor-recounts-humble-beginnings-in-waterville/&ss=3Dtw&rt=\\r\\n=3DPulitzer-winning+New+York+Times+editor+recounts+humble+beginnings+in+Wat=\\r\\nerville&cd=3DKhQxNzYyOTY4NTUwNTk1NTM1NjkxOTIaYWZlNGEyYzcwZjZmZTkwZjpjb2=\\r\\n06ZW46VVM&ssp=3DAMJHsmVh87_vvN6HudNTH8zSpPQ-duB6UA\" style=3D\"text-decor=\\r\\nation:none\"> <img alt=3D\"Twitter\" src=3D\"https://www.gstatic.com/alerts/ima=\\r\\nges/tw-24.png\" border=3D\"0\" height=3D\"16\" width=3D\"16\"></a> </td> <td style=\\r\\n=3D\"padding:0px 0px 6px 15px;font-family:Arial\"> <a href=3D\"https://www.goo=\\r\\ngle.com/alerts/feedback?ffu=3Dhttps://www.centralmaine.com/2018/04/24/new-y=\\r\\nork-times-editor-recounts-humble-beginnings-in-waterville/&source=3Dale=\\r\\nrtsmail&hl=3Den&gl=3DUS&msgid=3DMTc2Mjk2ODU1MDU5NTUzNTY5MTk&=\\r\\n;s=3DAB2Xq4jn54eoWR1JtkhXUEzNzQYQ8qQaH1Ik8HM\" style=3D\"text-decoration:none=\\r\\n;vertical-align:middle;color:#aaa;font-size:10px\"> Flag as irrelevant </a> =\\r\\n</td> </tr> </table>  </div> </div> </td> <td style=3D\"padding-right:18px\">=\\r\\n</td> </tr>    <tr> <td colspan=3D\"3\" valign=3D\"middle\" style=3D\"background=\\r\\n-color:#f8f8f8;font-size:14px;vertical-align:middle;text-align:center;paddi=\\r\\nng:10px 10px 10px 10px;line-height:20px;border:1px solid #e4e4e4;font-famil=\\r\\ny:Arial\"> <a href=3D\"https://www.google.com/alerts?s=3DAB2Xq4jn54eoWR1JtkhX=\\r\\nUEzNzQYQ8qQaH1Ik8HM&start=3D1524005281&end=3D1524603803&source=\\r\\n=3Dalertsmail&hl=3Den&gl=3DUS&msgid=3DMTc2Mjk2ODU1MDU5NTUzNTY5M=\\r\\nTk#history\" style=3D\"text-decoration:none;vertical-align:middle;color:#427f=\\r\\ned\">  See more results  </a> <span style=3D\"font-size:12px;padding-left:15p=\\r\\nx;padding-right:15px;color:#aaa\">|</span> <a href=3D\"https://www.google.com=\\r\\n/alerts/edit?source=3Dalertsmail&hl=3Den&gl=3DUS&msgid=3DMTc2Mj=\\r\\nk2ODU1MDU5NTUzNTY5MTk&s=3DAB2Xq4jn54eoWR1JtkhXUEzNzQYQ8qQaH1Ik8HM&e=\\r\\nmail=3Dprospectstudent%40colby.edu\" style=3D\"text-decoration:none;vertical-=\\r\\nalign:middle;color:#427fed\">Edit this alert</a>  </td> </tr>  </table> <tab=\\r\\nle style=3D\"padding-top:6px;font-size:12px;color:#252525;text-align:center;=\\r\\nwidth:100%\"> <tr> <td style=3D\"font-family:Arial\">  You have received this =\\r\\nemail because you have subscribed to <b>Google Alerts</b>. <div> <a href=3D=\\r\\n\"https://www.google.com/alerts/remove?source=3Dalertsmail&hl=3Den&g=\\r\\nl=3DUS&msgid=3DMTc2Mjk2ODU1MDU5NTUzNTY5MTk&s=3DAB2Xq4jn54eoWR1JtkhX=\\r\\nUEzNzQYQ8qQaH1Ik8HM\" style=3D\"text-decoration:none;color:#427fed\">Unsubscri=\\r\\nbe</a> <span style=3D\"padding:0px 4px 0px 4px;color:#252525\">|</span> <a hr=\\r\\nef=3D\"https://www.google.com/alerts?source=3Dalertsmail&hl=3Den&gl=\\r\\n=3DUS&msgid=3DMTc2Mjk2ODU1MDU5NTUzNTY5MTk\" style=3D\"text-decoration:non=\\r\\ne;color:#427fed\">  View all your alerts  </a> </div> </td> </tr> <tr> <td s=\\r\\ntyle=3D\"padding:6px 10px 0px 0px;font-family:Arial\"> <a href=3D\"https://www=\\r\\n.google.com/alerts/feeds/16218955178302834825/12493788028705499880\" style=\\r\\n=3D\"text-decoration:none;color:#427fed\"> <img src=3D\"https://www.gstatic.co=\\r\\nm/alerts/images/rss-16.gif\" alt=3D\"RSS\" border=3D\"0\" style=3D\"padding:0px 8=\\r\\npx 0px 0px;vertical-align:middle\"> <span style=3D\"display:inline;line-heigh=\\r\\nt:16px;vertical-align:middle\"> Receive this alert as RSS feed </span> </a> =\\r\\n</td> </tr> <tr> <td style=3D\"padding:6px 0px 0px 0px;font-family:Arial\"> <=\\r\\na href=3D\"https://www.google.com/alerts?source=3Dalertsmail&hl=3Den&=\\r\\n;gl=3DUS&msgid=3DMTc2Mjk2ODU1MDU5NTUzNTY5MTk&s=3DAB2Xq4jn54eoWR1Jtk=\\r\\nhXUEzNzQYQ8qQaH1Ik8HM&ffu=3D\" style=3D\"text-decoration:none;color:#427f=\\r\\ned\"> <div style=3D\"display:inline;line-height:16px;vertical-align:middle\"> =\\r\\nSend Feedback </div> </a> </td> </tr> </table> </div> </div> <!--[if mso]>\\r\\n</td></tr></table>\\r\\n<![endif]-->\\r\\n   </div>  </body> </html>'"
      ]
     },
     "execution_count": 20,
     "metadata": {},
     "output_type": "execute_result"
    }
   ],
   "source": [
    "text = html.unescape(text)\n",
    "text"
   ]
  },
  {
   "cell_type": "code",
   "execution_count": 11,
   "metadata": {
    "collapsed": true
   },
   "outputs": [],
   "source": [
    "orig_mail = \"https://www.google.com/url?rct=3Dj\\\\u0026sa=3Dt\\\\u0026url=3Dhtt=\\r\\nps://www.stcatharinesstandard.ca/news-story/8403018-brock-university-presid=\\r\\nent-joins-summer-games-board/\\\\u0026ct=3Dga\\\\u0026cd=3DCAEYACoUMTA4NzA5ODA0Nj=\\r\\nE1MzEwMzA5NzkyGjdiZGFiOGQwYWNiM2Q4N2E6Y29tOmVuOlVT\\\\u0026usg=3DAFQjCNG7yoIIf=\\r\\ngYAYeZfImBBSxksPFzR0w\""
   ]
  },
  {
   "cell_type": "code",
   "execution_count": 12,
   "metadata": {},
   "outputs": [
    {
     "data": {
      "text/plain": [
       "b'https://www.google.com/url?rct=j\\\\u0026sa=t\\\\u0026url=https://www.stcatharinesstandard.ca/news-story/8403018-brock-university-president-joins-summer-games-board/\\\\u0026ct=ga\\\\u0026cd=CAEYACoUMTA4NzA5ODA0NjE1MzEwMzA5NzkyGjdiZGFiOGQwYWNiM2Q4N2E6Y29tOmVuOlVT\\\\u0026usg=AFQjCNG7yoIIfgYAYeZfImBBSxksPFzR0w'"
      ]
     },
     "execution_count": 12,
     "metadata": {},
     "output_type": "execute_result"
    }
   ],
   "source": [
    "quopri.decodestring(orig_mail)"
   ]
  },
  {
   "cell_type": "code",
   "execution_count": null,
   "metadata": {
    "collapsed": true
   },
   "outputs": [],
   "source": []
  },
  {
   "cell_type": "code",
   "execution_count": null,
   "metadata": {
    "collapsed": true
   },
   "outputs": [],
   "source": []
  },
  {
   "cell_type": "code",
   "execution_count": null,
   "metadata": {
    "collapsed": true
   },
   "outputs": [],
   "source": []
  },
  {
   "cell_type": "code",
   "execution_count": null,
   "metadata": {
    "collapsed": true
   },
   "outputs": [],
   "source": []
  },
  {
   "cell_type": "markdown",
   "metadata": {},
   "source": [
    "### Using Regex to get the links"
   ]
  },
  {
   "cell_type": "code",
   "execution_count": 59,
   "metadata": {},
   "outputs": [
    {
     "data": {
      "text/plain": [
       "'https://www.google.com/alerts/feeds/16218955178302834825/12493788028705499880'"
      ]
     },
     "execution_count": 59,
     "metadata": {},
     "output_type": "execute_result"
    }
   ],
   "source": [
    "\n",
    "m = re.findall('alerts/feeds\\S+', text)\n",
    "url = ('https://www.google.com/' + m[0]).replace('\\\"', '')\n",
    "url"
   ]
  },
  {
   "cell_type": "code",
   "execution_count": 72,
   "metadata": {},
   "outputs": [],
   "source": [
    "r  = requests.get(url)\n",
    "\n",
    "soup = BeautifulSoup(r.content, 'html.parser')"
   ]
  },
  {
   "cell_type": "code",
   "execution_count": 88,
   "metadata": {},
   "outputs": [
    {
     "name": "stdout",
     "output_type": "stream",
     "text": [
      "<link href=\"https://www.google.com/url?rct=j&amp;sa=t&amp;url=https://www.centralmaine.com/2018/04/24/new-york-times-editor-recounts-humble-beginnings-in-waterville/&amp;ct=ga&amp;cd=CAIyGmFmZTRhMmM3MGY2ZmU5MGY6Y29tOmVuOlVT&amp;usg=AFQjCNGXH5-DBXWWt65KErDH2mZAb-KuvA\"/>\n"
     ]
    }
   ],
   "source": [
    "# use &ct as a stopper\n",
    "\n",
    "web_lists = soup.find_all('link')[1:]\n",
    "for web in web_lists:\n",
    "    print(web)"
   ]
  },
  {
   "cell_type": "code",
   "execution_count": 84,
   "metadata": {},
   "outputs": [
    {
     "ename": "TypeError",
     "evalue": "expected string or bytes-like object",
     "output_type": "error",
     "traceback": [
      "\u001b[0;31m---------------------------------------------------------------------------\u001b[0m",
      "\u001b[0;31mTypeError\u001b[0m                                 Traceback (most recent call last)",
      "\u001b[0;32m<ipython-input-84-3aea617ae3ce>\u001b[0m in \u001b[0;36m<module>\u001b[0;34m()\u001b[0m\n\u001b[0;32m----> 1\u001b[0;31m \u001b[0mre\u001b[0m\u001b[0;34m.\u001b[0m\u001b[0mfindall\u001b[0m\u001b[0;34m(\u001b[0m\u001b[0;34m'url=\\\\S+'\u001b[0m\u001b[0;34m,\u001b[0m \u001b[0mweb_lists\u001b[0m\u001b[0;34m[\u001b[0m\u001b[0;36m0\u001b[0m\u001b[0;34m]\u001b[0m\u001b[0;34m)\u001b[0m\u001b[0;34m\u001b[0m\u001b[0m\n\u001b[0m",
      "\u001b[0;32m/Users/Mike/anaconda/lib/python3.5/re.py\u001b[0m in \u001b[0;36mfindall\u001b[0;34m(pattern, string, flags)\u001b[0m\n\u001b[1;32m    211\u001b[0m \u001b[0;34m\u001b[0m\u001b[0m\n\u001b[1;32m    212\u001b[0m     Empty matches are included in the result.\"\"\"\n\u001b[0;32m--> 213\u001b[0;31m     \u001b[0;32mreturn\u001b[0m \u001b[0m_compile\u001b[0m\u001b[0;34m(\u001b[0m\u001b[0mpattern\u001b[0m\u001b[0;34m,\u001b[0m \u001b[0mflags\u001b[0m\u001b[0;34m)\u001b[0m\u001b[0;34m.\u001b[0m\u001b[0mfindall\u001b[0m\u001b[0;34m(\u001b[0m\u001b[0mstring\u001b[0m\u001b[0;34m)\u001b[0m\u001b[0;34m\u001b[0m\u001b[0m\n\u001b[0m\u001b[1;32m    214\u001b[0m \u001b[0;34m\u001b[0m\u001b[0m\n\u001b[1;32m    215\u001b[0m \u001b[0;32mdef\u001b[0m \u001b[0mfinditer\u001b[0m\u001b[0;34m(\u001b[0m\u001b[0mpattern\u001b[0m\u001b[0;34m,\u001b[0m \u001b[0mstring\u001b[0m\u001b[0;34m,\u001b[0m \u001b[0mflags\u001b[0m\u001b[0;34m=\u001b[0m\u001b[0;36m0\u001b[0m\u001b[0;34m)\u001b[0m\u001b[0;34m:\u001b[0m\u001b[0;34m\u001b[0m\u001b[0m\n",
      "\u001b[0;31mTypeError\u001b[0m: expected string or bytes-like object"
     ]
    }
   ],
   "source": [
    "re.findall('url=\\\\S+', web_lists[0])"
   ]
  },
  {
   "cell_type": "code",
   "execution_count": null,
   "metadata": {},
   "outputs": [],
   "source": []
  },
  {
   "cell_type": "code",
   "execution_count": 89,
   "metadata": {
    "collapsed": true
   },
   "outputs": [],
   "source": [
    "def get_first_text_block(email_message_instance):\n",
    "    maintype = email_message_instance.get_content_maintype()\n",
    "    if maintype == 'multipart':\n",
    "        for part in email_message_instance.get_payload():\n",
    "            if part.get_content_maintype() == 'text':\n",
    "                return part.get_payload()\n",
    "    elif maintype == 'text':\n",
    "        return email_message_instance.get_payload()"
   ]
  },
  {
   "cell_type": "code",
   "execution_count": 107,
   "metadata": {
    "collapsed": true,
    "scrolled": false
   },
   "outputs": [],
   "source": [
    "# get_first_text_block(email_message)"
   ]
  },
  {
   "cell_type": "code",
   "execution_count": null,
   "metadata": {
    "collapsed": true
   },
   "outputs": [],
   "source": []
  },
  {
   "cell_type": "code",
   "execution_count": null,
   "metadata": {
    "collapsed": true
   },
   "outputs": [],
   "source": []
  },
  {
   "cell_type": "code",
   "execution_count": null,
   "metadata": {
    "collapsed": true
   },
   "outputs": [],
   "source": []
  },
  {
   "cell_type": "markdown",
   "metadata": {},
   "source": [
    "#### using mail.search()"
   ]
  },
  {
   "cell_type": "code",
   "execution_count": 70,
   "metadata": {
    "collapsed": true
   },
   "outputs": [],
   "source": [
    "type, data = mail.search(None, 'ALL')\n",
    "mail_ids = data[0].decode()\n",
    "id_list = mail_ids.split()"
   ]
  },
  {
   "cell_type": "code",
   "execution_count": 71,
   "metadata": {
    "collapsed": true
   },
   "outputs": [],
   "source": [
    "first_email_id = int(id_list[0])\n",
    "latest_email_id = int(id_list[-1])"
   ]
  },
  {
   "cell_type": "code",
   "execution_count": 89,
   "metadata": {
    "collapsed": true
   },
   "outputs": [],
   "source": [
    "typ, data = mail.fetch('4', '(RFC822)' )"
   ]
  },
  {
   "cell_type": "code",
   "execution_count": 91,
   "metadata": {},
   "outputs": [
    {
     "name": "stdout",
     "output_type": "stream",
     "text": [
      "From : None\n",
      "\n",
      "Subject : None\n",
      "\n"
     ]
    }
   ],
   "source": [
    "for response_part in data:\n",
    "    if isinstance(response_part, tuple):\n",
    "        msg = email.message_from_string(str(response_part[1]))\n",
    "        email_subject = msg['subject']\n",
    "        email_from = msg['from']\n",
    "        print( 'From : ' + str(email_from) + '\\n')\n",
    "        print ('Subject : ' + str(email_subject) + '\\n')"
   ]
  },
  {
   "cell_type": "code",
   "execution_count": 97,
   "metadata": {},
   "outputs": [
    {
     "name": "stdout",
     "output_type": "stream",
     "text": [
      "None\n"
     ]
    }
   ],
   "source": [
    "raw_email = data[0][1]\n",
    "email_message = email.message_from_string(str(raw_email))\n",
    "print(email_message['To'])"
   ]
  },
  {
   "cell_type": "code",
   "execution_count": 84,
   "metadata": {},
   "outputs": [
    {
     "name": "stdout",
     "output_type": "stream",
     "text": [
      "<class 'bytes'>\n"
     ]
    }
   ],
   "source": [
    "for response_part in data:\n",
    "    if isinstance(response_part, tuple):\n",
    "        print(type(response_part[1]))"
   ]
  },
  {
   "cell_type": "code",
   "execution_count": null,
   "metadata": {
    "collapsed": true
   },
   "outputs": [],
   "source": []
  },
  {
   "cell_type": "code",
   "execution_count": null,
   "metadata": {
    "collapsed": true
   },
   "outputs": [],
   "source": []
  },
  {
   "cell_type": "code",
   "execution_count": null,
   "metadata": {
    "collapsed": true
   },
   "outputs": [],
   "source": []
  },
  {
   "cell_type": "code",
   "execution_count": null,
   "metadata": {
    "collapsed": true
   },
   "outputs": [],
   "source": []
  },
  {
   "cell_type": "code",
   "execution_count": null,
   "metadata": {
    "collapsed": true
   },
   "outputs": [],
   "source": []
  },
  {
   "cell_type": "code",
   "execution_count": 65,
   "metadata": {
    "collapsed": true
   },
   "outputs": [],
   "source": [
    "import smtplib\n",
    "import time\n",
    "import imaplib\n",
    "import email\n",
    "def read_email_from_gmail(user, pw):\n",
    "    try:\n",
    "        mail = imaplib.IMAP4_SSL(SMTP_SERVER)\n",
    "        mail.login(user, pw)\n",
    "        mail.select('inbox')\n",
    "\n",
    "        typ, data = mail.search(None, 'ALL')\n",
    "        mail_ids = data[0]\n",
    "\n",
    "        id_list = mail_ids.split()   \n",
    "        first_email_id = int(id_list[0])\n",
    "        latest_email_id = int(id_list[-1])\n",
    "\n",
    "\n",
    "        for i in range(latest_email_id,first_email_id, -1):\n",
    "            typ, data = mail.fetch(str(i), '(RFC822)' )\n",
    "\n",
    "            for response_part in data:\n",
    "                if isinstance(response_part, tuple):\n",
    "                    msg = email.message_from_string(response_part[1])\n",
    "                    email_subject = msg['subject']\n",
    "                    email_from = msg['from']\n",
    "                    print( 'From : ' + email_from + '\\n')\n",
    "                    print ('Subject : ' + email_subject + '\\n')\n",
    "\n",
    "    except Exception as e:\n",
    "        print (e)"
   ]
  },
  {
   "cell_type": "code",
   "execution_count": 66,
   "metadata": {},
   "outputs": [
    {
     "name": "stdout",
     "output_type": "stream",
     "text": [
      "initial_value must be str or None, not bytes\n"
     ]
    }
   ],
   "source": [
    "read_email_from_gmail(username, password)"
   ]
  },
  {
   "cell_type": "code",
   "execution_count": null,
   "metadata": {
    "collapsed": true
   },
   "outputs": [],
   "source": []
  }
 ],
 "metadata": {
  "anaconda-cloud": {},
  "kernelspec": {
   "display_name": "Python [default]",
   "language": "python",
   "name": "python3"
  },
  "language_info": {
   "codemirror_mode": {
    "name": "ipython",
    "version": 3
   },
   "file_extension": ".py",
   "mimetype": "text/x-python",
   "name": "python",
   "nbconvert_exporter": "python",
   "pygments_lexer": "ipython3",
   "version": "3.5.2"
  }
 },
 "nbformat": 4,
 "nbformat_minor": 2
}
