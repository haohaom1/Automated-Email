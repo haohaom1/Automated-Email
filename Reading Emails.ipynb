{
 "cells": [
  {
   "cell_type": "code",
   "execution_count": 1,
   "metadata": {},
   "outputs": [],
   "source": [
    "import pandas as pd\n",
    "import numpy as np\n",
    "import imaplib\n",
    "import email\n",
    "import quopri\n",
    "import re\n",
    "import html\n",
    "from bs4 import BeautifulSoup\n",
    "import requests"
   ]
  },
  {
   "cell_type": "code",
   "execution_count": 2,
   "metadata": {},
   "outputs": [],
   "source": [
    "username = 'prospectstudent@colby.edu'\n",
    "password = 'Student.2017'\n",
    "\n",
    "# username = 'haohaom2@gmail.com'\n",
    "# password = '62947394'"
   ]
  },
  {
   "cell_type": "markdown",
   "metadata": {},
   "source": [
    "### Accessing the email"
   ]
  },
  {
   "cell_type": "code",
   "execution_count": 3,
   "metadata": {},
   "outputs": [
    {
     "data": {
      "text/plain": [
       "('OK', [b'4007'])"
      ]
     },
     "execution_count": 3,
     "metadata": {},
     "output_type": "execute_result"
    }
   ],
   "source": [
    "mail = imaplib.IMAP4_SSL('imap.gmail.com')\n",
    "mail.login(username, password)\n",
    "mail.list()\n",
    "# Out: list of \"folders\" aka labels in gmail.\n",
    "mail.select(\"inbox\") # connect to inbox."
   ]
  },
  {
   "cell_type": "code",
   "execution_count": 27,
   "metadata": {},
   "outputs": [],
   "source": [
    "result, data = mail.uid('search', None, \"ALL\") # search and return uids instead\n",
    "\n",
    "first_email_id = data[0].split()[0]\n",
    "latest_email_uid = data[0].split()[-1]\n",
    "\n",
    "test_email_uid = data[0].split()[-10]\n",
    "\n",
    "ids = data[0].split()"
   ]
  },
  {
   "cell_type": "code",
   "execution_count": 5,
   "metadata": {},
   "outputs": [
    {
     "name": "stdout",
     "output_type": "stream",
     "text": [
      "first email uid  b'4009'\n",
      "latest_email_uid  b'12244'\n"
     ]
    }
   ],
   "source": [
    "print('first email uid ', first_email_id)\n",
    "print('latest_email_uid ', latest_email_uid)"
   ]
  },
  {
   "cell_type": "code",
   "execution_count": null,
   "metadata": {},
   "outputs": [],
   "source": []
  },
  {
   "cell_type": "markdown",
   "metadata": {},
   "source": [
    "### Reading the email message"
   ]
  },
  {
   "cell_type": "code",
   "execution_count": 28,
   "metadata": {},
   "outputs": [
    {
     "name": "stdout",
     "output_type": "stream",
     "text": [
      "Google Alert - \"Patricia Smith\"\n"
     ]
    }
   ],
   "source": [
    "result, data = mail.uid('fetch', test_email_uid, '(RFC822)')\n",
    "raw_email = str(data[0][1], 'utf-8')\n",
    "email_message = email.message_from_string(raw_email)\n",
    "print(email_message['subject'])"
   ]
  },
  {
   "cell_type": "code",
   "execution_count": 29,
   "metadata": {},
   "outputs": [],
   "source": [
    "def get_text_from_email(email_msg):\n",
    "    if email_msg.is_multipart():\n",
    "        s = ''\n",
    "        for payload in email_msg.get_payload():\n",
    "            s += payload.get_payload()\n",
    "    else:\n",
    "        s = b.get_payload()\n",
    "    \n",
    "    return s"
   ]
  },
  {
   "cell_type": "code",
   "execution_count": 34,
   "metadata": {
    "scrolled": true
   },
   "outputs": [],
   "source": [
    "# This cleans html stuff so I can extract the xml code\n",
    "text = get_text_from_email(email_message).replace('\\r\\n', '').replace('=', '')"
   ]
  },
  {
   "cell_type": "code",
   "execution_count": 36,
   "metadata": {},
   "outputs": [
    {
     "data": {
      "text/plain": [
       "'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<html lang3D\"en-US\"> <head>  </head> <body> <div>  <script data-scope3D\"inboxmarkup\" type3D\"application/json\">{  \"api_version\": \"1.0\",  \"publisher\": {    \"api_key\": \"668269e72cfedea31b22524041ff21d9\",    \"name\": \"Google Alerts\"  },  \"entity\": {    \"external_key\": \"Google Alert - \\\\\"Patricia Smith\\\\\"\",    \"title\": \"Google Alert - \\\\\"Patricia Smith\\\\\"\",    \"subtitle\": \"Latest: April 26, 2018\",    \"avatar_image_url\": \"https://www.gstatic.com/images/branding/product/1x/gsa_512dp.png\",    \"main_image_url\": \"https://www.gstatic.com/bt/C3341AA7A1A076756462EE2E5CD71C11/smartmail/mobile/il_newspaper_header_r1.png\"  },  \"updates\": {    \"snippets\": [ {      \"icon\": \"BOOKMARK\",      \"message\": \"Brooklyn woman gave no hints of trouble or enemies before found dismembered in park; family ...\"    }, {      \"icon\": \"BOOKMARK\",      \"message\": \"Proposal to make 30-minute recess mandatory in Louisiana schools clears first legislative hurdle\"    }, {      \"icon\": \"BOOKMARK\",      \"message\": \"House education committee approves bill to require unstructured playtime\"    } ]  },  \"cards\": [ {    \"title\": \"Google Alert - \\\\\"Patricia Smith\\\\\"\",    \"subtitle\": \"Highlights from the latest email\",    \"actions\": [ {      \"name\": \"See more results\",      \"url\": \"https://www.google.com/alerts?s3DAB2Xq4h4QwV8P7VQAbtK5p3xrGgh5wk7GF8DRv4\\\\u0026start3D1524683127\\\\u0026end3D1524769511\\\\u0026source3Dalertsmail\\\\u0026hl3Den\\\\u0026gl3DUS\\\\u0026msgid3DMTM0Mjk2MjA1NzE0ODAzODM2Mjk#history\"    } ],    \"widgets\": [ {      \"type\": \"LINK\",      \"title\": \"Brooklyn woman gave no hints of trouble or enemies before found dismembered in park; family ...\",      \"description\": \"Local dog walker Patricia Smith spotted the woman\\'s body E28094 a torso without arms and legs E28094 in a pile of leaves by a narrow pathway that winds through the park. Smith went down the same road with her Pekingese pup the evening before E28094 but this time there was something different. E2809CI stopped and ...\",      \"url\": \"https://www.google.com/url?rct3Dj\\\\u0026sa3Dt\\\\u0026url3Dhttp://www.nydailynews.com/new-york/woman-gave-no-hints-trouble-found-butchered-park-article-1.3955035\\\\u0026ct3Dga\\\\u0026cd3DCAEYACoUMTM0Mjk2MjA1NzE0ODAzODM2MjkyGjM0Y2Q4YzU3YjRmYzQ3MTI6Y29tOmVuOlVT\\\\u0026usg3DAFQjCNHkNY53zYmEyXhuDvB79fcpUBsw-w\"    }, {      \"type\": \"LINK\",      \"title\": \"Proposal to make 30-minute recess mandatory in Louisiana schools clears first legislative hurdle\",      \"description\": \"... R-Opelousas; Walt Leger, D-New Orleans; Polly Thomas, R-Metairie; Mark Wright, R-Covington and Reid Falconer, R-Mandeville. Voting \\\\\"no\\\\\" were state Reps. Jeffrey Hall, D-Alexandria; Joseph Bouie, D-New Orleans; Ken Brass, D-Gonzales; Stephanie Hilferty, R-Metairie and Patricia Smith, D-Baton ...\",      \"url\": \"https://www.google.com/url?rct3Dj\\\\u0026sa3Dt\\\\u0026url3Dhttp://www.theadvocate.com/baton_rouge/news/politics/legislature/article_4bf71aea-47fe-11e8-8333-97df9fd80aff.html\\\\u0026ct3Dga\\\\u0026cd3DCAEYASoUMTM0Mjk2MjA1NzE0ODAzODM2MjkyGjM0Y2Q4YzU3YjRmYzQ3MTI6Y29tOmVuOlVT\\\\u0026usg3DAFQjCNEU9L5CeOdUVizPHUuk3XR3vItw_A\"    }, {      \"type\": \"LINK\",      \"title\": \"House education committee approves bill to require unstructured playtime\",      \"description\": \"Patricia Smith, D-Baton Rouge, also said it was hard to require more free time when the state already mandates standards for accountability and performance, especially in the 4th and 8th grades. State law requires a minimum of a 360-minute school day for 177 instructional days. Middle school students ...\",      \"url\": \"https://www.google.com/url?rct3Dj\\\\u0026sa3Dt\\\\u0026url3Dhttp://www.kalb.com/content/news/House-education-committee-approves-bill-to-require-unstructured-playtime-480867921.html\\\\u0026ct3Dga\\\\u0026cd3DCAEYAioUMTM0Mjk2MjA1NzE0ODAzODM2MjkyGjM0Y2Q4YzU3YjRmYzQ3MTI6Y29tOmVuOlVT\\\\u0026usg3DAFQjCNHrgTV0b31JaekPIMprKqYJt_wlxA\"    }, {      \"type\": \"LINK\",      \"title\": \"La. state bill passes to require recess for students K-8\",      \"description\": \"Patricia Smith said it would be hard to require more free time when the state already mandates standards for accountability and performance, especially in the 4th and 8th grades. State law requires a minimum of a 360-minute school day for 177 instructional days. Middle school students often attend six ...\",      \"url\": \"https://www.google.com/url?rct3Dj\\\\u0026sa3Dt\\\\u0026url3Dhttp://www.myarklamiss.com/news/local-news/la-state-bill-passes-to-require-recess-for-students-k-8/1142778829\\\\u0026ct3Dga\\\\u0026cd3DCAEYBCoUMTM0Mjk2MjA1NzE0ODAzODM2MjkyGjM0Y2Q4YzU3YjRmYzQ3MTI6Y29tOmVuOlVT\\\\u0026usg3DAFQjCNGzPeUhmPb0LZifoZLiXkN5K5t7vQ\"    } ]  } ]}</script> <!--[if mso]> <table><tr><td width3D650><![endif]--> <div style3D\"width:100%;max-width:650px\"> <div style3D\"font-family:Arial\"> <table style3D\"border-collapse:collapse;border-left:1px solid #e4e4e4;border-right:1px solid #e4e4e4\"> <tr> <td style3D\"background-color:#f8f8f8;padding-left:18px;border-bottom:1px solid #e4e4e4;border-top:1px solid #e4e4e4\"></td> <td valign3D\"middle\" style3D\"padding:13px 10px 8px 0px;background-color:#f8f8f8;border-top:1px solid #e4e4e4;border-bottom:1px solid #e4e4e4\"> <a href3D\"https://www.google.com/alerts?source3Dalertsmail&amp;hl3Den&amp;gl3DUS&amp;msgid3DMTM0Mjk2MjA1NzE0ODAzODM2Mjk\" style3D\"text-decoration:none\"> <img src3D\"https://www.google.com/intl/en_us/alerts/logo.png?cd3DKhQxMzQyOTYyMDU3MTQ4MDM4MzYyOQ\" alt3D\"Google\" border3D\"0\" height3D\"25\"> </a> </td> <td style3D\"background-color:#f8f8f8;padding-left:18px;border-top:1px solid #e4e4e4;border-bottom:1px solid #e4e4e4\"></td> </tr>  <tr>  <td style3D\"padding-left:32px\"></td> <td style3D\"padding:18px 0px 0px 0px;vertical-align:middle;line-height:20px;font-family:Arial\"> <span style3D\"color:#262626;font-size:22px\">\"Patricia Smith\"</span> <div style3D\"vertical-align:top;padding-top:6px;color:#aaa;font-size:12px;line-height:16px\"> <span>Daily update</span> <span style3D\"padding:0px 4px 0px 4px\">&sdot;</span> <a style3D\"color:#aaa;text-decoration:none\">April 26, 2018</a> </div> </td> <td style3D\"padding-left:32px\"></td>   </tr>  <tr> <td style3D\"padding-left:18px\"></td> <td style3D\"padding:16px 0px 12px 0px;border-bottom:1px solid #e4e4e4\"> <span style3D\"font-size:12px;color:#737373\"> NEWS </span> </td> <td style3D\"padding-right:18px\"></td> </tr>   <tr itemscope3D\"\" itemtype3D\"http://schema.org/Article\"> <td style3D\"padding-left:18px\"></td> <td style3D\"padding:18px 0px 12px 0px;vertical-align:top;font-family:Arial\"> <a></a> <div>  <span style3D\"padding:0px 6px 0px 0px\"> <a href3D\"https://www.google.com/url?rct3Dj&amp;sa3Dt&amp;url3Dhttp://www.nydailynews.com/new-york/woman-gave-no-hints-trouble-found-butchered-park-article-1.3955035&amp;ct3Dga&amp;cd3DCAEYACoUMTM0Mjk2MjA1NzE0ODAzODM2MjkyGjM0Y2Q4YzU3YjRmYzQ3MTI6Y29tOmVuOlVT&amp;usg3DAFQjCNHkNY53zYmEyXhuDvB79fcpUBsw-w\" itemprop3D\"url\" style3D\"color:#427fed;display:inline;text-decoration:none;font-size:16px;line-height:20px\"> <span itemprop3D\"name\">Brooklyn woman gave no hints of trouble or enemies before found dismembered in park; family ...</span> </a> </span>  <div> <div style3D\"padding:2px 0px 8px 0px\"> <div itemprop3D\"publisher\" itemscope3D\"\" itemtype3D\"http://schema.org/Organization\" style3D\"color:#737373;font-size:12px\"> <a style3D\"text-decoration:none;color:#737373\"> <span itemprop3D\"name\">New York Daily News</span> </a> </div> <div itemprop3D\"description\" style3D\"color:#252525;padding:2px 0px 0px 0px;font-size:12px;line-height:18px\">Local dog walker <b>Patricia Smith</b> spotted the woman&#39;s body E28094 a torso without arms and legs E28094 in a pile of leaves by a narrow pathway that winds through the park. Smith went down the same road with her Pekingese pup the evening before E28094 but this time there was something different. E2809CI stopped and&nbsp;...</div> </div>   <table> <tr> <td width3D\"16\" style3D\"padding-right:6px\"> <a href3D\"https://www.google.com/alerts/share?hl3Den&amp;gl3DUS&amp;ru3Dhttp://www.nydailynews.com/new-york/woman-gave-no-hints-trouble-found-butchered-park-article-1.3955035&amp;ss3Dgp&amp;rt3DBrooklyn+woman+gave+no+hints+of+trouble+or+enemies+before+found+dismembered+in+park%3B+family+...&amp;cd3DKhQxMzQyOTYyMDU3MTQ4MDM4MzYyOTIaMzRjZDhjNTdiNGZjNDcxMjpjb206ZW46VVM&amp;ssp3DAMJHsmUPUUoPqp_VTJSqyg41dFc581cykA\" style3D\"text-decoration:none\"> <img alt3D\"Google Plus\" src3D\"https://www.gstatic.com/alerts/images/gp-24.png\" border3D\"0\" height3D\"16\" width3D\"16\"></a> </td> <td width3D\"16\" style3D\"padding-right:6px\"> <a href3D\"https://www.google.com/alerts/share?hl3Den&amp;gl3DUS&amp;ru3Dhttp://www.nydailynews.com/new-york/woman-gave-no-hints-trouble-found-butchered-park-article-1.3955035&amp;ss3Dfb&amp;rt3DBrooklyn+woman+gave+no+hints+of+trouble+or+enemies+before+found+dismembered+in+park%3B+family+...&amp;cd3DKhQxMzQyOTYyMDU3MTQ4MDM4MzYyOTIaMzRjZDhjNTdiNGZjNDcxMjpjb206ZW46VVM&amp;ssp3DAMJHsmUPUUoPqp_VTJSqyg41dFc581cykA\" style3D\"text-decoration:none\"> <img alt3D\"Facebook\" src3D\"https://www.gstatic.com/alerts/images/fb-24.png\" border3D\"0\" height3D\"16\" width3D\"16\"></a> </td> <td width3D\"16\" style3D\"padding-right:6px\"> <a href3D\"https://www.google.com/alerts/share?hl3Den&amp;gl3DUS&amp;ru3Dhttp://www.nydailynews.com/new-york/woman-gave-no-hints-trouble-found-butchered-park-article-1.3955035&amp;ss3Dtw&amp;rt3DBrooklyn+woman+gave+no+hints+of+trouble+or+enemies+before+found+dismembered+in+park%3B+family+...&amp;cd3DKhQxMzQyOTYyMDU3MTQ4MDM4MzYyOTIaMzRjZDhjNTdiNGZjNDcxMjpjb206ZW46VVM&amp;ssp3DAMJHsmUPUUoPqp_VTJSqyg41dFc581cykA\" style3D\"text-decoration:none\"> <img alt3D\"Twitter\" src3D\"https://www.gstatic.com/alerts/images/tw-24.png\" border3D\"0\" height3D\"16\" width3D\"16\"></a> </td> <td style3D\"padding:0px 0px 6px 15px;font-family:Arial\"> <a href3D\"https://www.google.com/alerts/feedback?ffu3Dhttp://www.nydailynews.com/new-york/woman-gave-no-hints-trouble-found-butchered-park-article-1.3955035&amp;source3Dalertsmail&amp;hl3Den&amp;gl3DUS&amp;msgid3DMTM0Mjk2MjA1NzE0ODAzODM2Mjk&amp;s3DAB2Xq4h4QwV8P7VQAbtK5p3xrGgh5wk7GF8DRv4\" style3D\"text-decoration:none;vertical-align:middle;color:#aaa;font-size:10px\"> Flag as irrelevant </a> </td> </tr> </table>  </div> </div> </td> <td style3D\"padding-right:18px\"></td> </tr>    <tr itemscope3D\"\" itemtype3D\"http://schema.org/Article\"> <td style3D\"padding-left:18px\"></td> <td style3D\"padding:18px 0px 12px 0px;vertical-align:top;border-top:1px solid #e4e4e4;font-family:Arial\"> <a></a> <div>  <span style3D\"padding:0px 6px 0px 0px\"> <a href3D\"https://www.google.com/url?rct3Dj&amp;sa3Dt&amp;url3Dhttp://www.theadvocate.com/baton_rouge/news/politics/legislature/article_4bf71aea-47fe-11e8-8333-97df9fd80aff.html&amp;ct3Dga&amp;cd3DCAEYASoUMTM0Mjk2MjA1NzE0ODAzODM2MjkyGjM0Y2Q4YzU3YjRmYzQ3MTI6Y29tOmVuOlVT&amp;usg3DAFQjCNEU9L5CeOdUVizPHUuk3XR3vItw_A\" itemprop3D\"url\" style3D\"color:#427fed;display:inline;text-decoration:none;font-size:16px;line-height:20px\"> <span itemprop3D\"name\">Proposal to make 30-minute recess mandatory in Louisiana schools clears first legislative hurdle</span> </a> </span>  <div> <div style3D\"padding:2px 0px 8px 0px\"> <div itemprop3D\"publisher\" itemscope3D\"\" itemtype3D\"http://schema.org/Organization\" style3D\"color:#737373;font-size:12px\"> <a style3D\"text-decoration:none;color:#737373\"> <span itemprop3D\"name\">The Advocate</span> </a> </div> <div itemprop3D\"description\" style3D\"color:#252525;padding:2px 0px 0px 0px;font-size:12px;line-height:18px\">... R-Opelousas; Walt Leger, D-New Orleans; Polly Thomas, R-Metairie; Mark Wright, R-Covington and Reid Falconer, R-Mandeville. Voting &quot;no&quot; were state Reps. Jeffrey Hall, D-Alexandria; Joseph Bouie, D-New Orleans; Ken Brass, D-Gonzales; Stephanie Hilferty, R-Metairie and <b>Patricia Smith</b>, D-Baton&nbsp;...</div> </div>   <table> <tr> <td width3D\"16\" style3D\"padding-right:6px\"> <a href3D\"https://www.google.com/alerts/share?hl3Den&amp;gl3DUS&amp;ru3Dhttp://www.theadvocate.com/baton_rouge/news/politics/legislature/article_4bf71aea-47fe-11e8-8333-97df9fd80aff.html&amp;ss3Dgp&amp;rt3DProposal+to+make+30-minute+recess+mandatory+in+Louisiana+schools+clears+first+legislative+hurdle&amp;cd3DKhQxMzQyOTYyMDU3MTQ4MDM4MzYyOTIaMzRjZDhjNTdiNGZjNDcxMjpjb206ZW46VVM&amp;ssp3DAMJHsmUbBEny-bpCbDFvhVJQMClsxTviUA\" style3D\"text-decoration:none\"> <img alt3D\"Google Plus\" src3D\"https://www.gstatic.com/alerts/images/gp-24.png\" border3D\"0\" height3D\"16\" width3D\"16\"></a> </td> <td width3D\"16\" style3D\"padding-right:6px\"> <a href3D\"https://www.google.com/alerts/share?hl3Den&amp;gl3DUS&amp;ru3Dhttp://www.theadvocate.com/baton_rouge/news/politics/legislature/article_4bf71aea-47fe-11e8-8333-97df9fd80aff.html&amp;ss3Dfb&amp;rt3DProposal+to+make+30-minute+recess+mandatory+in+Louisiana+schools+clears+first+legislative+hurdle&amp;cd3DKhQxMzQyOTYyMDU3MTQ4MDM4MzYyOTIaMzRjZDhjNTdiNGZjNDcxMjpjb206ZW46VVM&amp;ssp3DAMJHsmUbBEny-bpCbDFvhVJQMClsxTviUA\" style3D\"text-decoration:none\"> <img alt3D\"Facebook\" src3D\"https://www.gstatic.com/alerts/images/fb-24.png\" border3D\"0\" height3D\"16\" width3D\"16\"></a> </td> <td width3D\"16\" style3D\"padding-right:6px\"> <a href3D\"https://www.google.com/alerts/share?hl3Den&amp;gl3DUS&amp;ru3Dhttp://www.theadvocate.com/baton_rouge/news/politics/legislature/article_4bf71aea-47fe-11e8-8333-97df9fd80aff.html&amp;ss3Dtw&amp;rt3DProposal+to+make+30-minute+recess+mandatory+in+Louisiana+schools+clears+first+legislative+hurdle&amp;cd3DKhQxMzQyOTYyMDU3MTQ4MDM4MzYyOTIaMzRjZDhjNTdiNGZjNDcxMjpjb206ZW46VVM&amp;ssp3DAMJHsmUbBEny-bpCbDFvhVJQMClsxTviUA\" style3D\"text-decoration:none\"> <img alt3D\"Twitter\" src3D\"https://www.gstatic.com/alerts/images/tw-24.png\" border3D\"0\" height3D\"16\" width3D\"16\"></a> </td> <td style3D\"padding:0px 0px 6px 15px;font-family:Arial\"> <a href3D\"https://www.google.com/alerts/feedback?ffu3Dhttp://www.theadvocate.com/baton_rouge/news/politics/legislature/article_4bf71aea-47fe-11e8-8333-97df9fd80aff.html&amp;source3Dalertsmail&amp;hl3Den&amp;gl3DUS&amp;msgid3DMTM0Mjk2MjA1NzE0ODAzODM2Mjk&amp;s3DAB2Xq4h4QwV8P7VQAbtK5p3xrGgh5wk7GF8DRv4\" style3D\"text-decoration:none;vertical-align:middle;color:#aaa;font-size:10px\"> Flag as irrelevant </a> </td> </tr> </table>  </div> </div> </td> <td style3D\"padding-right:18px\"></td> </tr>    <tr itemscope3D\"\" itemtype3D\"http://schema.org/Article\"> <td style3D\"padding-left:18px\"></td> <td style3D\"padding:18px 0px 12px 0px;vertical-align:top;border-top:1px solid #e4e4e4;font-family:Arial\"> <a></a> <div>  <span style3D\"padding:0px 6px 0px 0px\"> <a href3D\"https://www.google.com/url?rct3Dj&amp;sa3Dt&amp;url3Dhttp://www.kalb.com/content/news/House-education-committee-approves-bill-to-require-unstructured-playtime-480867921.html&amp;ct3Dga&amp;cd3DCAEYAioUMTM0Mjk2MjA1NzE0ODAzODM2MjkyGjM0Y2Q4YzU3YjRmYzQ3MTI6Y29tOmVuOlVT&amp;usg3DAFQjCNHrgTV0b31JaekPIMprKqYJt_wlxA\" itemprop3D\"url\" style3D\"color:#427fed;display:inline;text-decoration:none;font-size:16px;line-height:20px\"> <span itemprop3D\"name\">House education committee approves bill to require unstructured playtime</span> </a> </span>  <div> <div style3D\"padding:2px 0px 8px 0px\"> <div itemprop3D\"publisher\" itemscope3D\"\" itemtype3D\"http://schema.org/Organization\" style3D\"color:#737373;font-size:12px\"> <a style3D\"text-decoration:none;color:#737373\"> <span itemprop3D\"name\">KALB News (press release)</span> </a> </div> <div itemprop3D\"description\" style3D\"color:#252525;padding:2px 0px 0px 0px;font-size:12px;line-height:18px\"><b>Patricia Smith</b>, D-Baton Rouge, also said it was hard to require more free time when the state already mandates standards for accountability and performance, especially in the 4th and 8th grades. State law requires a minimum of a 360-minute school day for 177 instructional days. Middle school students&nbsp;...</div> </div>    <div style3D\"font-size:12px;line-height:18px\"> <a href3D\"https://www.google.com/url?rct3Dj&amp;sa3Dt&amp;url3Dhttps://www.theadvertiser.com/story/news/local/louisiana/2018/04/25/bring-back-recess-bill-others-clear-house-committee/552368002/&amp;ct3Dga&amp;cd3DCAEYAioUMTM0Mjk2MjA1NzE0ODAzODM2MjkyGjM0Y2Q4YzU3YjRmYzQ3MTI6Y29tOmVuOlVT&amp;usg3DAFQjCNHE3EH1EjBAaOCAEMwdtG2IS54gPg\" style3D\"color:#427FED;text-decoration:none\">&#39;Bring Back Recess Bill,&#39; others clear House committee</a> <span style3D\"color:#737373\"> - <a style3D\"text-decoration:none;color:#737373\">The Daily Advertiser</a></span> </div>   <div style3D\"padding:0px 0px 8px 0px\"> <a href3D\"http://news.google.com/news/story?ncl3Dhttp://www.kalb.com/content/news/House-education-committee-approves-bill-to-require-unstructured-playtime-480867921.html&amp;hl3Den&amp;geo3DUS\" target3D\"_blank\" style3D\"font-size:10px;color:#427FED;text-decoration:none\"> Full Coverage </a> </div>   <table> <tr> <td width3D\"16\" style3D\"padding-right:6px\"> <a href3D\"https://www.google.com/alerts/share?hl3Den&amp;gl3DUS&amp;ru3Dhttp://www.kalb.com/content/news/House-education-committee-approves-bill-to-require-unstructured-playtime-480867921.html&amp;ss3Dgp&amp;rt3DHouse+education+committee+approves+bill+to+require+unstructured+playtime&amp;cd3DKhQxMzQyOTYyMDU3MTQ4MDM4MzYyOTIaMzRjZDhjNTdiNGZjNDcxMjpjb206ZW46VVM&amp;ssp3DAMJHsmU5IJIMxrg6Ks2hrJPKn4HuVxeMug\" style3D\"text-decoration:none\"> <img alt3D\"Google Plus\" src3D\"https://www.gstatic.com/alerts/images/gp-24.png\" border3D\"0\" height3D\"16\" width3D\"16\"></a> </td> <td width3D\"16\" style3D\"padding-right:6px\"> <a href3D\"https://www.google.com/alerts/share?hl3Den&amp;gl3DUS&amp;ru3Dhttp://www.kalb.com/content/news/House-education-committee-approves-bill-to-require-unstructured-playtime-480867921.html&amp;ss3Dfb&amp;rt3DHouse+education+committee+approves+bill+to+require+unstructured+playtime&amp;cd3DKhQxMzQyOTYyMDU3MTQ4MDM4MzYyOTIaMzRjZDhjNTdiNGZjNDcxMjpjb206ZW46VVM&amp;ssp3DAMJHsmU5IJIMxrg6Ks2hrJPKn4HuVxeMug\" style3D\"text-decoration:none\"> <img alt3D\"Facebook\" src3D\"https://www.gstatic.com/alerts/images/fb-24.png\" border3D\"0\" height3D\"16\" width3D\"16\"></a> </td> <td width3D\"16\" style3D\"padding-right:6px\"> <a href3D\"https://www.google.com/alerts/share?hl3Den&amp;gl3DUS&amp;ru3Dhttp://www.kalb.com/content/news/House-education-committee-approves-bill-to-require-unstructured-playtime-480867921.html&amp;ss3Dtw&amp;rt3DHouse+education+committee+approves+bill+to+require+unstructured+playtime&amp;cd3DKhQxMzQyOTYyMDU3MTQ4MDM4MzYyOTIaMzRjZDhjNTdiNGZjNDcxMjpjb206ZW46VVM&amp;ssp3DAMJHsmU5IJIMxrg6Ks2hrJPKn4HuVxeMug\" style3D\"text-decoration:none\"> <img alt3D\"Twitter\" src3D\"https://www.gstatic.com/alerts/images/tw-24.png\" border3D\"0\" height3D\"16\" width3D\"16\"></a> </td> <td style3D\"padding:0px 0px 6px 15px;font-family:Arial\"> <a href3D\"https://www.google.com/alerts/feedback?ffu3Dhttp://www.kalb.com/content/news/House-education-committee-approves-bill-to-require-unstructured-playtime-480867921.html&amp;source3Dalertsmail&amp;hl3Den&amp;gl3DUS&amp;msgid3DMTM0Mjk2MjA1NzE0ODAzODM2Mjk&amp;s3DAB2Xq4h4QwV8P7VQAbtK5p3xrGgh5wk7GF8DRv4\" style3D\"text-decoration:none;vertical-align:middle;color:#aaa;font-size:10px\"> Flag as irrelevant </a> </td> </tr> </table>  </div> </div> </td> <td style3D\"padding-right:18px\"></td> </tr>    <tr itemscope3D\"\" itemtype3D\"http://schema.org/Article\"> <td style3D\"padding-left:18px\"></td> <td style3D\"padding:18px 0px 12px 0px;vertical-align:top;border-top:1px solid #e4e4e4;font-family:Arial\"> <a></a> <div>  <span style3D\"padding:0px 6px 0px 0px\"> <a href3D\"https://www.google.com/url?rct3Dj&amp;sa3Dt&amp;url3Dhttp://www.myarklamiss.com/news/local-news/la-state-bill-passes-to-require-recess-for-students-k-8/1142778829&amp;ct3Dga&amp;cd3DCAEYBCoUMTM0Mjk2MjA1NzE0ODAzODM2MjkyGjM0Y2Q4YzU3YjRmYzQ3MTI6Y29tOmVuOlVT&amp;usg3DAFQjCNGzPeUhmPb0LZifoZLiXkN5K5t7vQ\" itemprop3D\"url\" style3D\"color:#427fed;display:inline;text-decoration:none;font-size:16px;line-height:20px\"> <span itemprop3D\"name\">La. state bill passes to require recess for students K-8</span> </a> </span>  <div> <div style3D\"padding:2px 0px 8px 0px\"> <div itemprop3D\"publisher\" itemscope3D\"\" itemtype3D\"http://schema.org/Organization\" style3D\"color:#737373;font-size:12px\"> <a style3D\"text-decoration:none;color:#737373\"> <span itemprop3D\"name\">MyArkLaMiss (press release) (blog)</span> </a> </div> <div itemprop3D\"description\" style3D\"color:#252525;padding:2px 0px 0px 0px;font-size:12px;line-height:18px\"><b>Patricia Smith</b> said it would be hard to require more free time when the state already mandates standards for accountability and performance, especially in the 4th and 8th grades. State law requires a minimum of a 360-minute school day for 177 instructional days. Middle school students often attend six&nbsp;...</div> </div>   <table> <tr> <td width3D\"16\" style3D\"padding-right:6px\"> <a href3D\"https://www.google.com/alerts/share?hl3Den&amp;gl3DUS&amp;ru3Dhttp://www.myarklamiss.com/news/local-news/la-state-bill-passes-to-require-recess-for-students-k-8/1142778829&amp;ss3Dgp&amp;rt3DLa.+state+bill+passes+to+require+recess+for+students+K-8&amp;cd3DKhQxMzQyOTYyMDU3MTQ4MDM4MzYyOTIaMzRjZDhjNTdiNGZjNDcxMjpjb206ZW46VVM&amp;ssp3DAMJHsmVsi98lQ8cKzR47g1xRzdyjEj3YvQ\" style3D\"text-decoration:none\"> <img alt3D\"Google Plus\" src3D\"https://www.gstatic.com/alerts/images/gp-24.png\" border3D\"0\" height3D\"16\" width3D\"16\"></a> </td> <td width3D\"16\" style3D\"padding-right:6px\"> <a href3D\"https://www.google.com/alerts/share?hl3Den&amp;gl3DUS&amp;ru3Dhttp://www.myarklamiss.com/news/local-news/la-state-bill-passes-to-require-recess-for-students-k-8/1142778829&amp;ss3Dfb&amp;rt3DLa.+state+bill+passes+to+require+recess+for+students+K-8&amp;cd3DKhQxMzQyOTYyMDU3MTQ4MDM4MzYyOTIaMzRjZDhjNTdiNGZjNDcxMjpjb206ZW46VVM&amp;ssp3DAMJHsmVsi98lQ8cKzR47g1xRzdyjEj3YvQ\" style3D\"text-decoration:none\"> <img alt3D\"Facebook\" src3D\"https://www.gstatic.com/alerts/images/fb-24.png\" border3D\"0\" height3D\"16\" width3D\"16\"></a> </td> <td width3D\"16\" style3D\"padding-right:6px\"> <a href3D\"https://www.google.com/alerts/share?hl3Den&amp;gl3DUS&amp;ru3Dhttp://www.myarklamiss.com/news/local-news/la-state-bill-passes-to-require-recess-for-students-k-8/1142778829&amp;ss3Dtw&amp;rt3DLa.+state+bill+passes+to+require+recess+for+students+K-8&amp;cd3DKhQxMzQyOTYyMDU3MTQ4MDM4MzYyOTIaMzRjZDhjNTdiNGZjNDcxMjpjb206ZW46VVM&amp;ssp3DAMJHsmVsi98lQ8cKzR47g1xRzdyjEj3YvQ\" style3D\"text-decoration:none\"> <img alt3D\"Twitter\" src3D\"https://www.gstatic.com/alerts/images/tw-24.png\" border3D\"0\" height3D\"16\" width3D\"16\"></a> </td> <td style3D\"padding:0px 0px 6px 15px;font-family:Arial\"> <a href3D\"https://www.google.com/alerts/feedback?ffu3Dhttp://www.myarklamiss.com/news/local-news/la-state-bill-passes-to-require-recess-for-students-k-8/1142778829&amp;source3Dalertsmail&amp;hl3Den&amp;gl3DUS&amp;msgid3DMTM0Mjk2MjA1NzE0ODAzODM2Mjk&amp;s3DAB2Xq4h4QwV8P7VQAbtK5p3xrGgh5wk7GF8DRv4\" style3D\"text-decoration:none;vertical-align:middle;color:#aaa;font-size:10px\"> Flag as irrelevant </a> </td> </tr> </table>  </div> </div> </td> <td style3D\"padding-right:18px\"></td> </tr>    <tr itemscope3D\"\" itemtype3D\"http://schema.org/Article\"> <td style3D\"padding-left:18px\"></td> <td style3D\"padding:18px 0px 12px 0px;vertical-align:top;border-top:1px solid #e4e4e4;font-family:Arial\"> <a></a> <div>  <span style3D\"padding:0px 6px 0px 0px\"> <a href3D\"https://www.google.com/url?rct3Dj&amp;sa3Dt&amp;url3Dhttps://www.ocregister.com/2018/04/25/books-authors-and-readers-free-events-happening-at-litfest-pasadena/&amp;ct3Dga&amp;cd3DCAEYBSoUMTM0Mjk2MjA1NzE0ODAzODM2MjkyGjM0Y2Q4YzU3YjRmYzQ3MTI6Y29tOmVuOlVT&amp;usg3DAFQjCNHQFFWwUH7giFiK_y-z2WsDq5n8YQ\" itemprop3D\"url\" style3D\"color:#427fed;display:inline;text-decoration:none;font-size:16px;line-height:20px\"> <span itemprop3D\"name\">Books, authors and readers: Free events happening at LitFest Pasadena</span> </a> </span>  <div> <div style3D\"padding:2px 0px 8px 0px\"> <div itemprop3D\"publisher\" itemscope3D\"\" itemtype3D\"http://schema.org/Organization\" style3D\"color:#737373;font-size:12px\"> <a style3D\"text-decoration:none;color:#737373\"> <span itemprop3D\"name\">OCRegister</span> </a> </div> <div itemprop3D\"description\" style3D\"color:#252525;padding:2px 0px 0px 0px;font-size:12px;line-height:18px\">LitFest Pasadena is returning to the Playhouse District May 19 and 20. The 7th annual free event, which was co-founded by Southern California News Group&#39;s Larry Wilson, will feature author appearances, readings, panels and conversations, literary performances, writing workshops and more inside a&nbsp;...</div> </div>   <table> <tr> <td width3D\"16\" style3D\"padding-right:6px\"> <a href3D\"https://www.google.com/alerts/share?hl3Den&amp;gl3DUS&amp;ru3Dhttps://www.ocregister.com/2018/04/25/books-authors-and-readers-free-events-happening-at-litfest-pasadena/&amp;ss3Dgp&amp;rt3DBooks,+authors+and+readers:+Free+events+happening+at+LitFest+Pasadena&amp;cd3DKhQxMzQyOTYyMDU3MTQ4MDM4MzYyOTIaMzRjZDhjNTdiNGZjNDcxMjpjb206ZW46VVM&amp;ssp3DAMJHsmU3D2MQVMJYPz6WLkrc1dpdrTufLQ\" style3D\"text-decoration:none\"> <img alt3D\"Google Plus\" src3D\"https://www.gstatic.com/alerts/images/gp-24.png\" border3D\"0\" height3D\"16\" width3D\"16\"></a> </td> <td width3D\"16\" style3D\"padding-right:6px\"> <a href3D\"https://www.google.com/alerts/share?hl3Den&amp;gl3DUS&amp;ru3Dhttps://www.ocregister.com/2018/04/25/books-authors-and-readers-free-events-happening-at-litfest-pasadena/&amp;ss3Dfb&amp;rt3DBooks,+authors+and+readers:+Free+events+happening+at+LitFest+Pasadena&amp;cd3DKhQxMzQyOTYyMDU3MTQ4MDM4MzYyOTIaMzRjZDhjNTdiNGZjNDcxMjpjb206ZW46VVM&amp;ssp3DAMJHsmU3D2MQVMJYPz6WLkrc1dpdrTufLQ\" style3D\"text-decoration:none\"> <img alt3D\"Facebook\" src3D\"https://www.gstatic.com/alerts/images/fb-24.png\" border3D\"0\" height3D\"16\" width3D\"16\"></a> </td> <td width3D\"16\" style3D\"padding-right:6px\"> <a href3D\"https://www.google.com/alerts/share?hl3Den&amp;gl3DUS&amp;ru3Dhttps://www.ocregister.com/2018/04/25/books-authors-and-readers-free-events-happening-at-litfest-pasadena/&amp;ss3Dtw&amp;rt3DBooks,+authors+and+readers:+Free+events+happening+at+LitFest+Pasadena&amp;cd3DKhQxMzQyOTYyMDU3MTQ4MDM4MzYyOTIaMzRjZDhjNTdiNGZjNDcxMjpjb206ZW46VVM&amp;ssp3DAMJHsmU3D2MQVMJYPz6WLkrc1dpdrTufLQ\" style3D\"text-decoration:none\"> <img alt3D\"Twitter\" src3D\"https://www.gstatic.com/alerts/images/tw-24.png\" border3D\"0\" height3D\"16\" width3D\"16\"></a> </td> <td style3D\"padding:0px 0px 6px 15px;font-family:Arial\"> <a href3D\"https://www.google.com/alerts/feedback?ffu3Dhttps://www.ocregister.com/2018/04/25/books-authors-and-readers-free-events-happening-at-litfest-pasadena/&amp;source3Dalertsmail&amp;hl3Den&amp;gl3DUS&amp;msgid3DMTM0Mjk2MjA1NzE0ODAzODM2Mjk&amp;s3DAB2Xq4h4QwV8P7VQAbtK5p3xrGgh5wk7GF8DRv4\" style3D\"text-decoration:none;vertical-align:middle;color:#aaa;font-size:10px\"> Flag as irrelevant </a> </td> </tr> </table>  </div> </div> </td> <td style3D\"padding-right:18px\"></td> </tr>    <tr itemscope3D\"\" itemtype3D\"http://schema.org/Article\"> <td style3D\"padding-left:18px\"></td> <td style3D\"padding:18px 0px 12px 0px;vertical-align:top;border-top:1px solid #e4e4e4;font-family:Arial\"> <a></a> <div>  <span style3D\"padding:0px 6px 0px 0px\"> <a href3D\"https://www.google.com/url?rct3Dj&amp;sa3Dt&amp;url3Dhttp://www.lataco.com/l-a-poet-spotlight-how-shihan-van-clief-made-his-mark-on-hbos-def-poetry-jam/&amp;ct3Dga&amp;cd3DCAEYByoUMTM0Mjk2MjA1NzE0ODAzODM2MjkyGjM0Y2Q4YzU3YjRmYzQ3MTI6Y29tOmVuOlVT&amp;usg3DAFQjCNGNdTXsWVfmleSEwEg3mxe2aZJ2WA\" itemprop3D\"url\" style3D\"color:#427fed;display:inline;text-decoration:none;font-size:16px;line-height:20px\"> <span itemprop3D\"name\">LA Poet Spotlight: How Shihan Van Clief Made His Mark on HBO&#39;s Def Poetry Jam</span> </a> </span>  <div> <div style3D\"padding:2px 0px 8px 0px\"> <div itemprop3D\"publisher\" itemscope3D\"\" itemtype3D\"http://schema.org/Organization\" style3D\"color:#737373;font-size:12px\"> <a style3D\"text-decoration:none;color:#737373\"> <span itemprop3D\"name\">lataco.com</span> </a> </div> <div itemprop3D\"description\" style3D\"color:#252525;padding:2px 0px 0px 0px;font-size:12px;line-height:18px\">The series featured performances by actors, musicians, and poets including the Last Poets, Dave Chappelle, <b>Patricia Smith</b>, Erykah Badu, Saul Williams, Nikki Giovanni, Lauryn Hill, and, DMX! Before Youtube, Def Poetry existed as the only platform for poets. Shihan specifically avoided a sad or angry&nbsp;...</div> </div>   <table> <tr> <td width3D\"16\" style3D\"padding-right:6px\"> <a href3D\"https://www.google.com/alerts/share?hl3Den&amp;gl3DUS&amp;ru3Dhttp://www.lataco.com/l-a-poet-spotlight-how-shihan-van-clief-made-his-mark-on-hbos-def-poetry-jam/&amp;ss3Dgp&amp;rt3DLA+Poet+Spotlight:+How+Shihan+Van+Clief+Made+His+Mark+on+HBO%27s+Def+Poetry+Jam&amp;cd3DKhQxMzQyOTYyMDU3MTQ4MDM4MzYyOTIaMzRjZDhjNTdiNGZjNDcxMjpjb206ZW46VVM&amp;ssp3DAMJHsmUhXc-SG2rkuY2vXmTU1XJOvT6LKQ\" style3D\"text-decoration:none\"> <img alt3D\"Google Plus\" src3D\"https://www.gstatic.com/alerts/images/gp-24.png\" border3D\"0\" height3D\"16\" width3D\"16\"></a> </td> <td width3D\"16\" style3D\"padding-right:6px\"> <a href3D\"https://www.google.com/alerts/share?hl3Den&amp;gl3DUS&amp;ru3Dhttp://www.lataco.com/l-a-poet-spotlight-how-shihan-van-clief-made-his-mark-on-hbos-def-poetry-jam/&amp;ss3Dfb&amp;rt3DLA+Poet+Spotlight:+How+Shihan+Van+Clief+Made+His+Mark+on+HBO%27s+Def+Poetry+Jam&amp;cd3DKhQxMzQyOTYyMDU3MTQ4MDM4MzYyOTIaMzRjZDhjNTdiNGZjNDcxMjpjb206ZW46VVM&amp;ssp3DAMJHsmUhXc-SG2rkuY2vXmTU1XJOvT6LKQ\" style3D\"text-decoration:none\"> <img alt3D\"Facebook\" src3D\"https://www.gstatic.com/alerts/images/fb-24.png\" border3D\"0\" height3D\"16\" width3D\"16\"></a> </td> <td width3D\"16\" style3D\"padding-right:6px\"> <a href3D\"https://www.google.com/alerts/share?hl3Den&amp;gl3DUS&amp;ru3Dhttp://www.lataco.com/l-a-poet-spotlight-how-shihan-van-clief-made-his-mark-on-hbos-def-poetry-jam/&amp;ss3Dtw&amp;rt3DLA+Poet+Spotlight:+How+Shihan+Van+Clief+Made+His+Mark+on+HBO%27s+Def+Poetry+Jam&amp;cd3DKhQxMzQyOTYyMDU3MTQ4MDM4MzYyOTIaMzRjZDhjNTdiNGZjNDcxMjpjb206ZW46VVM&amp;ssp3DAMJHsmUhXc-SG2rkuY2vXmTU1XJOvT6LKQ\" style3D\"text-decoration:none\"> <img alt3D\"Twitter\" src3D\"https://www.gstatic.com/alerts/images/tw-24.png\" border3D\"0\" height3D\"16\" width3D\"16\"></a> </td> <td style3D\"padding:0px 0px 6px 15px;font-family:Arial\"> <a href3D\"https://www.google.com/alerts/feedback?ffu3Dhttp://www.lataco.com/l-a-poet-spotlight-how-shihan-van-clief-made-his-mark-on-hbos-def-poetry-jam/&amp;source3Dalertsmail&amp;hl3Den&amp;gl3DUS&amp;msgid3DMTM0Mjk2MjA1NzE0ODAzODM2Mjk&amp;s3DAB2Xq4h4QwV8P7VQAbtK5p3xrGgh5wk7GF8DRv4\" style3D\"text-decoration:none;vertical-align:middle;color:#aaa;font-size:10px\"> Flag as irrelevant </a> </td> </tr> </table>  </div> </div> </td> <td style3D\"padding-right:18px\"></td> </tr>    <tr> <td colspan3D\"3\" valign3D\"middle\" style3D\"background-color:#f8f8f8;font-size:14px;vertical-align:middle;text-align:center;padding:10px 10px 10px 10px;line-height:20px;border:1px solid #e4e4e4;font-family:Arial\"> <a href3D\"https://www.google.com/alerts?s3DAB2Xq4h4QwV8P7VQAbtK5p3xrGgh5wk7GF8DRv4&amp;start3D1524683127&amp;end3D1524769511&amp;source3Dalertsmail&amp;hl3Den&amp;gl3DUS&amp;msgid3DMTM0Mjk2MjA1NzE0ODAzODM2Mjk#history\" style3D\"text-decoration:none;vertical-align:middle;color:#427fed\">  See more results  </a> <span style3D\"font-size:12px;padding-left:15px;padding-right:15px;color:#aaa\">|</span> <a href3D\"https://www.google.com/alerts/edit?source3Dalertsmail&amp;hl3Den&amp;gl3DUS&amp;msgid3DMTM0Mjk2MjA1NzE0ODAzODM2Mjk&amp;s3DAB2Xq4h4QwV8P7VQAbtK5p3xrGgh5wk7GF8DRv4&amp;email3Dprospectstudent%40colby.edu\" style3D\"text-decoration:none;vertical-align:middle;color:#427fed\">Edit this alert</a>  </td> </tr>  </table> <table style3D\"padding-top:6px;font-size:12px;color:#252525;text-align:center;width:100%\"> <tr> <td style3D\"font-family:Arial\">  You have received this email because you have subscribed to <b>Google Alerts</b>. <div> <a href3D\"https://www.google.com/alerts/remove?source3Dalertsmail&amp;hl3Den&amp;gl3DUS&amp;msgid3DMTM0Mjk2MjA1NzE0ODAzODM2Mjk&amp;s3DAB2Xq4h4QwV8P7VQAbtK5p3xrGgh5wk7GF8DRv4\" style3D\"text-decoration:none;color:#427fed\">Unsubscribe</a> <span style3D\"padding:0px 4px 0px 4px;color:#252525\">|</span> <a href3D\"https://www.google.com/alerts?source3Dalertsmail&amp;hl3Den&amp;gl3DUS&amp;msgid3DMTM0Mjk2MjA1NzE0ODAzODM2Mjk\" style3D\"text-decoration:none;color:#427fed\">  View all your alerts  </a> </div> </td> </tr> <tr> <td style3D\"padding:6px 10px 0px 0px;font-family:Arial\"> <a href3D\"https://www.google.com/alerts/feeds/16218955178302834825/3213032149530912798\" style3D\"text-decoration:none;color:#427fed\"> <img src3D\"https://www.gstatic.com/alerts/images/rss-16.gif\" alt3D\"RSS\" border3D\"0\" style3D\"padding:0px 8px 0px 0px;vertical-align:middle\"> <span style3D\"display:inline;line-height:16px;vertical-align:middle\"> Receive this alert as RSS feed </span> </a> </td> </tr> <tr> <td style3D\"padding:6px 0px 0px 0px;font-family:Arial\"> <a href3D\"https://www.google.com/alerts?source3Dalertsmail&amp;hl3Den&amp;gl3DUS&amp;msgid3DMTM0Mjk2MjA1NzE0ODAzODM2Mjk&amp;s3DAB2Xq4h4QwV8P7VQAbtK5p3xrGgh5wk7GF8DRv4&amp;ffu3D\" style3D\"text-decoration:none;color:#427fed\"> <div style3D\"display:inline;line-height:16px;vertical-align:middle\"> Send Feedback </div> </a> </td> </tr> </table> </div> </div> <!--[if mso]></td></tr></table><![endif]-->   </div>  </body> </html>'"
      ]
     },
     "execution_count": 36,
     "metadata": {},
     "output_type": "execute_result"
    }
   ],
   "source": [
    "# text = html.unescape(text)\n",
    "text"
   ]
  },
  {
   "cell_type": "code",
   "execution_count": 61,
   "metadata": {},
   "outputs": [],
   "source": [
    "# extracts xml files from the raw string text\n",
    "def extract_xml(raw_text):\n",
    "    raw_text = raw_text.replace('\\r\\n', '').replace('=', '')\n",
    "    m = re.findall('alerts/feeds\\S+', raw_text)\n",
    "    \n",
    "    links = [('https://www.google.com/' + x).replace('\\\"', '') for x in m]\n",
    "    return links"
   ]
  },
  {
   "cell_type": "markdown",
   "metadata": {},
   "source": [
    "### Using Regex to get the links"
   ]
  },
  {
   "cell_type": "code",
   "execution_count": 126,
   "metadata": {},
   "outputs": [],
   "source": [
    "# Passes in an xml link\n",
    "# returns a list of links used in the website\n",
    "def get_url_from_xml(xml_link):\n",
    "    r  = requests.get(xml_link)\n",
    "    soup = BeautifulSoup(r.content, 'html.parser')   # creates a BS4 from given xml link\n",
    "    web_lists = soup.find_all('link')[1:]            # finds all the BS4 links\n",
    "    \n",
    "    urls = [re.findall('url=(.*?)&', url['href'])[0] for url in web_lists]\n",
    "    return urls"
   ]
  },
  {
   "cell_type": "code",
   "execution_count": 127,
   "metadata": {},
   "outputs": [
    {
     "data": {
      "text/plain": [
       "['http://www.nydailynews.com/new-york/woman-gave-no-hints-trouble-found-butchered-park-article-1.3955035',\n",
       " 'http://www.myarklamiss.com/news/local-news/la-state-bill-passes-to-require-recess-for-students-k-8/1142778829',\n",
       " 'https://www.theadvertiser.com/story/news/local/louisiana/2018/04/25/bring-back-recess-bill-others-clear-house-committee/552368002/',\n",
       " 'https://www.ocregister.com/2018/04/25/books-authors-and-readers-free-events-happening-at-litfest-pasadena/',\n",
       " 'http://www.kalb.com/content/news/House-education-committee-approves-bill-to-require-unstructured-playtime-480867921.html',\n",
       " 'http://www.theadvocate.com/baton_rouge/news/politics/legislature/article_4bf71aea-47fe-11e8-8333-97df9fd80aff.html']"
      ]
     },
     "execution_count": 127,
     "metadata": {},
     "output_type": "execute_result"
    }
   ],
   "source": [
    "get_url_from_xml(extract_xml(text)[0])"
   ]
  },
  {
   "cell_type": "code",
   "execution_count": null,
   "metadata": {},
   "outputs": [],
   "source": []
  },
  {
   "cell_type": "markdown",
   "metadata": {},
   "source": [
    "### Scrapes each link and creates a keyward card"
   ]
  },
  {
   "cell_type": "code",
   "execution_count": null,
   "metadata": {},
   "outputs": [],
   "source": []
  },
  {
   "cell_type": "code",
   "execution_count": null,
   "metadata": {},
   "outputs": [],
   "source": []
  },
  {
   "cell_type": "code",
   "execution_count": null,
   "metadata": {},
   "outputs": [],
   "source": []
  },
  {
   "cell_type": "code",
   "execution_count": null,
   "metadata": {},
   "outputs": [],
   "source": []
  },
  {
   "cell_type": "code",
   "execution_count": null,
   "metadata": {},
   "outputs": [],
   "source": []
  },
  {
   "cell_type": "code",
   "execution_count": null,
   "metadata": {},
   "outputs": [],
   "source": []
  },
  {
   "cell_type": "code",
   "execution_count": null,
   "metadata": {},
   "outputs": [],
   "source": []
  },
  {
   "cell_type": "code",
   "execution_count": null,
   "metadata": {},
   "outputs": [],
   "source": []
  },
  {
   "cell_type": "code",
   "execution_count": null,
   "metadata": {},
   "outputs": [],
   "source": []
  },
  {
   "cell_type": "code",
   "execution_count": null,
   "metadata": {},
   "outputs": [],
   "source": []
  },
  {
   "cell_type": "code",
   "execution_count": null,
   "metadata": {},
   "outputs": [],
   "source": []
  },
  {
   "cell_type": "code",
   "execution_count": null,
   "metadata": {},
   "outputs": [],
   "source": []
  },
  {
   "cell_type": "code",
   "execution_count": null,
   "metadata": {},
   "outputs": [],
   "source": []
  },
  {
   "cell_type": "code",
   "execution_count": null,
   "metadata": {},
   "outputs": [],
   "source": []
  },
  {
   "cell_type": "code",
   "execution_count": 64,
   "metadata": {},
   "outputs": [
    {
     "data": {
      "text/plain": [
       "'https://www.google.com/alerts/feeds/16218955178302834825/3213032149530912798'"
      ]
     },
     "execution_count": 64,
     "metadata": {},
     "output_type": "execute_result"
    }
   ],
   "source": [
    "\n",
    "m = re.findall('alerts/feeds\\S+', text)\n",
    "url = ('https://www.google.com/' + m[0]).replace('\\\"', '')\n",
    "url"
   ]
  },
  {
   "cell_type": "code",
   "execution_count": 82,
   "metadata": {},
   "outputs": [],
   "source": [
    "r  = requests.get(url)\n",
    "\n",
    "soup = BeautifulSoup(r.content, 'html.parser')"
   ]
  },
  {
   "cell_type": "code",
   "execution_count": 84,
   "metadata": {},
   "outputs": [
    {
     "name": "stdout",
     "output_type": "stream",
     "text": [
      "https://www.google.com/url?rct=j&sa=t&url=http://www.nydailynews.com/new-york/woman-gave-no-hints-trouble-found-butchered-park-article-1.3955035&ct=ga&cd=CAIyGjM0Y2Q4YzU3YjRmYzQ3MTI6Y29tOmVuOlVT&usg=AFQjCNHkNY53zYmEyXhuDvB79fcpUBsw-w\n",
      "https://www.google.com/url?rct=j&sa=t&url=http://www.myarklamiss.com/news/local-news/la-state-bill-passes-to-require-recess-for-students-k-8/1142778829&ct=ga&cd=CAIyGjM0Y2Q4YzU3YjRmYzQ3MTI6Y29tOmVuOlVT&usg=AFQjCNGzPeUhmPb0LZifoZLiXkN5K5t7vQ\n",
      "https://www.google.com/url?rct=j&sa=t&url=https://www.theadvertiser.com/story/news/local/louisiana/2018/04/25/bring-back-recess-bill-others-clear-house-committee/552368002/&ct=ga&cd=CAIyGjM0Y2Q4YzU3YjRmYzQ3MTI6Y29tOmVuOlVT&usg=AFQjCNHE3EH1EjBAaOCAEMwdtG2IS54gPg\n",
      "https://www.google.com/url?rct=j&sa=t&url=https://www.ocregister.com/2018/04/25/books-authors-and-readers-free-events-happening-at-litfest-pasadena/&ct=ga&cd=CAIyGjM0Y2Q4YzU3YjRmYzQ3MTI6Y29tOmVuOlVT&usg=AFQjCNHQFFWwUH7giFiK_y-z2WsDq5n8YQ\n",
      "https://www.google.com/url?rct=j&sa=t&url=http://www.kalb.com/content/news/House-education-committee-approves-bill-to-require-unstructured-playtime-480867921.html&ct=ga&cd=CAIyGjM0Y2Q4YzU3YjRmYzQ3MTI6Y29tOmVuOlVT&usg=AFQjCNHrgTV0b31JaekPIMprKqYJt_wlxA\n",
      "https://www.google.com/url?rct=j&sa=t&url=http://www.theadvocate.com/baton_rouge/news/politics/legislature/article_4bf71aea-47fe-11e8-8333-97df9fd80aff.html&ct=ga&cd=CAIyGjM0Y2Q4YzU3YjRmYzQ3MTI6Y29tOmVuOlVT&usg=AFQjCNEU9L5CeOdUVizPHUuk3XR3vItw_A\n"
     ]
    }
   ],
   "source": [
    "# use &ct as a stopper\n",
    "\n",
    "web_lists = soup.find_all('link')[1:]\n",
    "for web in web_lists:\n",
    "    print(web['href'])"
   ]
  },
  {
   "cell_type": "code",
   "execution_count": null,
   "metadata": {},
   "outputs": [],
   "source": []
  },
  {
   "cell_type": "code",
   "execution_count": 105,
   "metadata": {},
   "outputs": [
    {
     "data": {
      "text/plain": [
       "'https://www.google.com/url?rct=j&sa=t&url=http://www.nydailynews.com/new-york/woman-gave-no-hints-trouble-found-butchered-park-article-1.3955035&ct=ga&cd=CAIyGjM0Y2Q4YzU3YjRmYzQ3MTI6Y29tOmVuOlVT&usg=AFQjCNHkNY53zYmEyXhuDvB79fcpUBsw-w'"
      ]
     },
     "execution_count": 105,
     "metadata": {},
     "output_type": "execute_result"
    }
   ],
   "source": [
    "url = web_lists[0]['href']\n",
    "url"
   ]
  },
  {
   "cell_type": "code",
   "execution_count": 121,
   "metadata": {},
   "outputs": [
    {
     "data": {
      "text/plain": [
       "['http://www.nydailynews.com/new-york/woman-gave-no-hints-trouble-found-butchered-park-article-1.3955035',\n",
       " 'http://www.myarklamiss.com/news/local-news/la-state-bill-passes-to-require-recess-for-students-k-8/1142778829',\n",
       " 'https://www.theadvertiser.com/story/news/local/louisiana/2018/04/25/bring-back-recess-bill-others-clear-house-committee/552368002/',\n",
       " 'https://www.ocregister.com/2018/04/25/books-authors-and-readers-free-events-happening-at-litfest-pasadena/',\n",
       " 'http://www.kalb.com/content/news/House-education-committee-approves-bill-to-require-unstructured-playtime-480867921.html',\n",
       " 'http://www.theadvocate.com/baton_rouge/news/politics/legislature/article_4bf71aea-47fe-11e8-8333-97df9fd80aff.html']"
      ]
     },
     "execution_count": 121,
     "metadata": {},
     "output_type": "execute_result"
    }
   ],
   "source": [
    "[re.findall('url=(.*?)&', url['href'])[0] for url in web_lists]"
   ]
  },
  {
   "cell_type": "code",
   "execution_count": 110,
   "metadata": {},
   "outputs": [],
   "source": [
    "test_soup = BeautifulSoup(requests.get(url).content, 'html.parser')"
   ]
  },
  {
   "cell_type": "code",
   "execution_count": 111,
   "metadata": {},
   "outputs": [
    {
     "data": {
      "text/plain": [
       "'window.googleJavaScriptRedirect=1var n={navigateTo:function(b,a,d){if(b!=a&&b.google){if(b.google.r){b.google.r=0;b.location.href=d;a.location.replace(\"about:blank\");}}else{a.location.replace(d);}}};n.navigateTo(window.parent,window,\"http://www.nydailynews.com/new-york/woman-gave-no-hints-trouble-found-butchered-park-article-1.3955035\");\\n'"
      ]
     },
     "execution_count": 111,
     "metadata": {},
     "output_type": "execute_result"
    }
   ],
   "source": [
    "test_soup.get_text()"
   ]
  },
  {
   "cell_type": "code",
   "execution_count": null,
   "metadata": {},
   "outputs": [],
   "source": []
  },
  {
   "cell_type": "code",
   "execution_count": null,
   "metadata": {},
   "outputs": [],
   "source": []
  },
  {
   "cell_type": "code",
   "execution_count": null,
   "metadata": {},
   "outputs": [],
   "source": []
  },
  {
   "cell_type": "code",
   "execution_count": null,
   "metadata": {},
   "outputs": [],
   "source": []
  },
  {
   "cell_type": "code",
   "execution_count": 89,
   "metadata": {
    "collapsed": true
   },
   "outputs": [],
   "source": [
    "def get_first_text_block(email_message_instance):\n",
    "    maintype = email_message_instance.get_content_maintype()\n",
    "    if maintype == 'multipart':\n",
    "        for part in email_message_instance.get_payload():\n",
    "            if part.get_content_maintype() == 'text':\n",
    "                return part.get_payload()\n",
    "    elif maintype == 'text':\n",
    "        return email_message_instance.get_payload()"
   ]
  },
  {
   "cell_type": "code",
   "execution_count": 107,
   "metadata": {
    "collapsed": true,
    "scrolled": false
   },
   "outputs": [],
   "source": [
    "# get_first_text_block(email_message)"
   ]
  },
  {
   "cell_type": "code",
   "execution_count": null,
   "metadata": {
    "collapsed": true
   },
   "outputs": [],
   "source": []
  },
  {
   "cell_type": "code",
   "execution_count": null,
   "metadata": {
    "collapsed": true
   },
   "outputs": [],
   "source": []
  },
  {
   "cell_type": "code",
   "execution_count": null,
   "metadata": {
    "collapsed": true
   },
   "outputs": [],
   "source": []
  },
  {
   "cell_type": "markdown",
   "metadata": {},
   "source": [
    "#### using mail.search()"
   ]
  },
  {
   "cell_type": "code",
   "execution_count": 70,
   "metadata": {
    "collapsed": true
   },
   "outputs": [],
   "source": [
    "type, data = mail.search(None, 'ALL')\n",
    "mail_ids = data[0].decode()\n",
    "id_list = mail_ids.split()"
   ]
  },
  {
   "cell_type": "code",
   "execution_count": 71,
   "metadata": {
    "collapsed": true
   },
   "outputs": [],
   "source": [
    "first_email_id = int(id_list[0])\n",
    "latest_email_id = int(id_list[-1])"
   ]
  },
  {
   "cell_type": "code",
   "execution_count": 89,
   "metadata": {
    "collapsed": true
   },
   "outputs": [],
   "source": [
    "typ, data = mail.fetch('4', '(RFC822)' )"
   ]
  },
  {
   "cell_type": "code",
   "execution_count": 91,
   "metadata": {},
   "outputs": [
    {
     "name": "stdout",
     "output_type": "stream",
     "text": [
      "From : None\n",
      "\n",
      "Subject : None\n",
      "\n"
     ]
    }
   ],
   "source": [
    "for response_part in data:\n",
    "    if isinstance(response_part, tuple):\n",
    "        msg = email.message_from_string(str(response_part[1]))\n",
    "        email_subject = msg['subject']\n",
    "        email_from = msg['from']\n",
    "        print( 'From : ' + str(email_from) + '\\n')\n",
    "        print ('Subject : ' + str(email_subject) + '\\n')"
   ]
  },
  {
   "cell_type": "code",
   "execution_count": 97,
   "metadata": {},
   "outputs": [
    {
     "name": "stdout",
     "output_type": "stream",
     "text": [
      "None\n"
     ]
    }
   ],
   "source": [
    "raw_email = data[0][1]\n",
    "email_message = email.message_from_string(str(raw_email))\n",
    "print(email_message['To'])"
   ]
  },
  {
   "cell_type": "code",
   "execution_count": 84,
   "metadata": {},
   "outputs": [
    {
     "name": "stdout",
     "output_type": "stream",
     "text": [
      "<class 'bytes'>\n"
     ]
    }
   ],
   "source": [
    "for response_part in data:\n",
    "    if isinstance(response_part, tuple):\n",
    "        print(type(response_part[1]))"
   ]
  },
  {
   "cell_type": "code",
   "execution_count": null,
   "metadata": {
    "collapsed": true
   },
   "outputs": [],
   "source": []
  },
  {
   "cell_type": "code",
   "execution_count": null,
   "metadata": {
    "collapsed": true
   },
   "outputs": [],
   "source": []
  },
  {
   "cell_type": "code",
   "execution_count": null,
   "metadata": {
    "collapsed": true
   },
   "outputs": [],
   "source": []
  },
  {
   "cell_type": "code",
   "execution_count": null,
   "metadata": {
    "collapsed": true
   },
   "outputs": [],
   "source": []
  },
  {
   "cell_type": "code",
   "execution_count": null,
   "metadata": {
    "collapsed": true
   },
   "outputs": [],
   "source": []
  },
  {
   "cell_type": "code",
   "execution_count": 65,
   "metadata": {
    "collapsed": true
   },
   "outputs": [],
   "source": [
    "import smtplib\n",
    "import time\n",
    "import imaplib\n",
    "import email\n",
    "def read_email_from_gmail(user, pw):\n",
    "    try:\n",
    "        mail = imaplib.IMAP4_SSL(SMTP_SERVER)\n",
    "        mail.login(user, pw)\n",
    "        mail.select('inbox')\n",
    "\n",
    "        typ, data = mail.search(None, 'ALL')\n",
    "        mail_ids = data[0]\n",
    "\n",
    "        id_list = mail_ids.split()   \n",
    "        first_email_id = int(id_list[0])\n",
    "        latest_email_id = int(id_list[-1])\n",
    "\n",
    "\n",
    "        for i in range(latest_email_id,first_email_id, -1):\n",
    "            typ, data = mail.fetch(str(i), '(RFC822)' )\n",
    "\n",
    "            for response_part in data:\n",
    "                if isinstance(response_part, tuple):\n",
    "                    msg = email.message_from_string(response_part[1])\n",
    "                    email_subject = msg['subject']\n",
    "                    email_from = msg['from']\n",
    "                    print( 'From : ' + email_from + '\\n')\n",
    "                    print ('Subject : ' + email_subject + '\\n')\n",
    "\n",
    "    except Exception as e:\n",
    "        print (e)"
   ]
  },
  {
   "cell_type": "code",
   "execution_count": 66,
   "metadata": {},
   "outputs": [
    {
     "name": "stdout",
     "output_type": "stream",
     "text": [
      "initial_value must be str or None, not bytes\n"
     ]
    }
   ],
   "source": [
    "read_email_from_gmail(username, password)"
   ]
  },
  {
   "cell_type": "code",
   "execution_count": null,
   "metadata": {
    "collapsed": true
   },
   "outputs": [],
   "source": []
  }
 ],
 "metadata": {
  "anaconda-cloud": {},
  "kernelspec": {
   "display_name": "Python 3",
   "language": "python",
   "name": "python3"
  },
  "language_info": {
   "codemirror_mode": {
    "name": "ipython",
    "version": 3
   },
   "file_extension": ".py",
   "mimetype": "text/x-python",
   "name": "python",
   "nbconvert_exporter": "python",
   "pygments_lexer": "ipython3",
   "version": "3.6.4"
  }
 },
 "nbformat": 4,
 "nbformat_minor": 2
}
